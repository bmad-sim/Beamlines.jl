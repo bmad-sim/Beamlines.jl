{
 "cells": [
  {
   "cell_type": "code",
   "execution_count": 1,
   "id": "a127b9ad",
   "metadata": {},
   "outputs": [
    {
     "name": "stdout",
     "output_type": "stream",
     "text": [
      "Detected IPython. Loading juliacall extension. See https://juliapy.github.io/PythonCall.jl/stable/compat/#IPython\n"
     ]
    }
   ],
   "source": [
    "import math\n",
    "from juliacall import Main as jl\n",
    "jl.seval('using Beamlines')"
   ]
  },
  {
   "cell_type": "code",
   "execution_count": 2,
   "id": "0f58f7b9",
   "metadata": {},
   "outputs": [],
   "source": [
    "qf = jl.Quadrupole(Kn1=0.36, L=0.5)\n",
    "sf = jl.Sextupole(Kn2=0.1, L=0.2)\n",
    "d  = jl.Drift(L=0.6)\n",
    "b  = jl.SBend(L=6.0, angle=math.pi/132)\n",
    "qd = jl.Quadrupole(Kn1=-0.36, L=0.5)\n",
    "sd = jl.Sextupole(Kn2=-0.1, L=0.2)\n",
    "\n",
    "fodo = [qf, sf, d, b, d, qd, sd, d, b, d]\n",
    "ring = jl.Beamline(132*fodo)"
   ]
  },
  {
   "cell_type": "code",
   "execution_count": 3,
   "id": "27fa3217",
   "metadata": {},
   "outputs": [
    {
     "name": "stdout",
     "output_type": "stream",
     "text": [
      "0.3\n"
     ]
    }
   ],
   "source": [
    "Kn1 = 0.36\n",
    "qf.Kn1 = jl.DefExpr(lambda : Kn1) # Deferred expression as closure\n",
    "Kn1 = 0.3\n",
    "print(qf.Kn1)"
   ]
  },
  {
   "cell_type": "code",
   "execution_count": null,
   "id": "637c9973",
   "metadata": {},
   "outputs": [
    {
     "name": "stdout",
     "output_type": "stream",
     "text": [
      "2059.1999999999844\n",
      "2085.599999999987\n"
     ]
    }
   ],
   "source": [
    "# We can make anything a deferred expression\n",
    "L = 0.3\n",
    "qd.L = jl.DefExpr(lambda : L)\n",
    "print(ring.line[-1].s_downstream)\n",
    "L = 0.5\n",
    "print(ring.line[-1].s_downstream)"
   ]
  },
  {
   "cell_type": "code",
   "execution_count": null,
   "id": "b1430ea4",
   "metadata": {},
   "outputs": [],
   "source": []
  }
 ],
 "metadata": {
  "kernelspec": {
   "display_name": "base",
   "language": "python",
   "name": "python3"
  },
  "language_info": {
   "codemirror_mode": {
    "name": "ipython",
    "version": 3
   },
   "file_extension": ".py",
   "mimetype": "text/x-python",
   "name": "python",
   "nbconvert_exporter": "python",
   "pygments_lexer": "ipython3",
   "version": "3.13.2"
  }
 },
 "nbformat": 4,
 "nbformat_minor": 5
}
