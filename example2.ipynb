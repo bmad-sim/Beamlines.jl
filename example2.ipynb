{
 "cells": [
  {
   "cell_type": "markdown",
   "metadata": {},
   "source": [
    "### SciBmad: Polymorphism and High Order Autodifferentiation\n",
    "\n",
    "This simple example shows how, using SciBmad's fully polymorphic and differentiable lattice definition and tracking routines, one can compute high order derivatives of quantities of interest.\n",
    "\n",
    "Let's construct a simple FODO cell, and compute the quadrupole strengths needed to set the phase advance of the cell to $90\\degree$.\n",
    "\n",
    "In this example we will use the `Beamlines.jl`, `GTPSA.jl`, and `NonlinearNormalForm.jl` packages within the SciBmad ecosystem"
   ]
  },
  {
   "cell_type": "code",
   "execution_count": 63,
   "metadata": {},
   "outputs": [],
   "source": [
    "using Revise, Plots, Beamlines, GTPSA, NonlinearNormalForm"
   ]
  },
  {
   "cell_type": "markdown",
   "metadata": {},
   "source": [
    "Define a function to create a FODO cell with `Linear` tracking selected:"
   ]
  },
  {
   "cell_type": "code",
   "execution_count": 64,
   "metadata": {},
   "outputs": [
    {
     "data": {
      "text/plain": [
       "make_fodo (generic function with 4 methods)"
      ]
     },
     "metadata": {},
     "output_type": "display_data"
    }
   ],
   "source": [
    "function make_fodo(K1, L_quad, L_drift)\n",
    "  qf = Quadrupole(K1=K1, L=L_quad, tracking_method=Linear())\n",
    "  d1 = Drift(L=L_drift, tracking_method=Linear())\n",
    "  qd = Quadrupole(K1=-qf.K1, L=L_quad, tracking_method=Linear())\n",
    "  d2 = Drift(L=L_drift, tracking_method=Linear())\n",
    "  return [qf, d1, qd, d2]\n",
    "end"
   ]
  },
  {
   "cell_type": "markdown",
   "metadata": {},
   "source": [
    "We can make a FODO `Beamline` using the following list comprehension now:"
   ]
  },
  {
   "cell_type": "code",
   "execution_count": 65,
   "metadata": {},
   "outputs": [
    {
     "data": {
      "text/plain": [
       "Beamline(LineElement[LineElement(Dict{Type{<:AbstractParams}, AbstractParams}(UniversalParams => UniversalParams(Linear(), 0.5, \"Quadrupole\", \"\"), BeamlineParams => BeamlineParams(Beamline(#= circular reference @-5 =#), 1), BMultipoleParams => BMultipoleParams{Float64}(Dict{Int64, BMultipole{Float64}}(2 => BMultipole{Float64}(0.36, 0.0, 2, true, false))))), LineElement(Dict{Type{<:AbstractParams}, AbstractParams}(UniversalParams => UniversalParams(Linear(), 6.0, \"Drift\", \"\"), BeamlineParams => BeamlineParams(Beamline(#= circular reference @-5 =#), 2))), LineElement(Dict{Type{<:AbstractParams}, AbstractParams}(UniversalParams => UniversalParams(Linear(), 0.5, \"Quadrupole\", \"\"), BeamlineParams => BeamlineParams(Beamline(#= circular reference @-5 =#), 3), BMultipoleParams => BMultipoleParams{Float64}(Dict{Int64, BMultipole{Float64}}(2 => BMultipole{Float64}(-0.36, 0.0, 2, true, false))))), LineElement(Dict{Type{<:AbstractParams}, AbstractParams}(UniversalParams => UniversalParams(Linear(), 6.0, \"Drift\", \"\"), BeamlineParams => BeamlineParams(Beamline(#= circular reference @-5 =#), 4)))], 60.0)"
      ]
     },
     "metadata": {},
     "output_type": "display_data"
    }
   ],
   "source": [
    "N_fodo = 1\n",
    "K1 = 0.36\n",
    "L_quad = 0.5\n",
    "L_drift = 6.0\n",
    "\n",
    "bl = Beamline([ele for i in 1:N_fodo for ele in make_fodo(K1, L_quad, L_drift)]; rigidity=60.0)\n"
   ]
  },
  {
   "cell_type": "markdown",
   "metadata": {},
   "source": [
    "Now, we can let the phase space coordinates and quadrupole strengths be GTPSA variables, so that we can obtain both the linear transport matrix $M$ of particles propagating through our FODO cell, as well as the dependence of each $M_{ij}$ on the quadrupole strength.\n",
    "\n",
    "To calculate the linear phase advance in this uncoupled case, we can simple use $\\textrm{acos}(\\frac{1}{2}\\textrm{Tr} M)$ for each oscillating plane. As such, we only need the first order derivatives of the phase space coordinates, and using GTPSA we can choose whatever order we want for the derivatives of the parameter (in this case, the change in quadrupole strength).\n",
    "\n",
    "Let's define a GTPSA `Descriptor` for 1st order in the 4 phase space variables, and 10th order in the change in quadrupole strength. "
   ]
  },
  {
   "cell_type": "code",
   "execution_count": 66,
   "metadata": {},
   "outputs": [
    {
     "data": {
      "text/plain": [
       "TPS64{Descriptor(NV=5, VOS=[1, 1, 1, 1, 10], MO=14)}:\n",
       " Coefficient                Order   Exponent\n",
       "  1.0000000000000000e+00      1      0   0   0   0   1\n"
      ]
     },
     "metadata": {},
     "output_type": "display_data"
    }
   ],
   "source": [
    " # 10+4 is the maximum truncation order\n",
    " # This ensures we do not lose accuracy by ignoring \n",
    " # higher order cross terms with ΔK1 \n",
    "const D = Descriptor([1,1,1,1,10], 10+4)\n",
    "Δx = @vars(D)[1:4]\n",
    "ΔK1 = @vars(D)[5]"
   ]
  },
  {
   "cell_type": "markdown",
   "metadata": {},
   "source": [
    "Now, we can use `Beamlines.jl`'s `Controller` type to simultaneously control all focusing and defocusing quadrupoles with a single knob.\n",
    "\n",
    "To get all of the focusing and defocusing quadrupoles, we use the standard Julia function `findall`. We then define a `Controller` with variable `x`, which sets each focusing quadrupole's `K1 = x`, and each defocusing quadrupole's `K1 = -x`. We then set the controller to be a TPSA expanded around the original `K1` from above."
   ]
  },
  {
   "cell_type": "code",
   "execution_count": 67,
   "metadata": {},
   "outputs": [
    {
     "data": {
      "text/plain": [
       "TPS64{Descriptor(NV=5, VOS=[1, 1, 1, 1, 10], MO=14)}:\n",
       " Coefficient                Order   Exponent\n",
       "  3.5999999999999999e-01      0      0   0   0   0   0\n",
       "  1.0000000000000000e+00      1      0   0   0   0   1\n"
      ]
     },
     "metadata": {},
     "output_type": "display_data"
    }
   ],
   "source": [
    "qf_idxs = findall(t->t.class==\"Quadrupole\" && t.K1 > 0, bl.line)\n",
    "qd_idxs = findall(t->t.class==\"Quadrupole\" && t.K1 < 0, bl.line)\n",
    "qfs = bl.line[qf_idxs] # Contains all focusing quadrupoles\n",
    "qds = bl.line[qd_idxs] # Contains all defocusing quadrupoles\n",
    "\n",
    "# Now make controller to set all of these\n",
    "cq = Controller(\n",
    "  map(t->(t, :K1) => (ele; x) -> x, qfs)...,\n",
    "  map(t->(t, :K1) => (ele; x) -> -x, qds)...,\n",
    "  vars = (; x = 0.0)\n",
    ")\n",
    "\n",
    "# Now make TPSA\n",
    "cq.x = K1 + ΔK1"
   ]
  },
  {
   "cell_type": "markdown",
   "metadata": {},
   "source": [
    "Now let's construct our `Bunch`, as a TPSA expanded around zero. And then track!"
   ]
  },
  {
   "cell_type": "code",
   "execution_count": 68,
   "metadata": {},
   "outputs": [
    {
     "data": {
      "text/plain": [
       "Bunch{Float64, StructArrays.StructVector{Beamlines.Coord{TPS64{Descriptor(NV=5, VOS=[1, 1, 1, 1, 10], MO=14)}}, @NamedTuple{x::Vector{TPS64{Descriptor(NV=5, VOS=[1, 1, 1, 1, 10], MO=14)}}, px::Vector{TPS64{Descriptor(NV=5, VOS=[1, 1, 1, 1, 10], MO=14)}}, y::Vector{TPS64{Descriptor(NV=5, VOS=[1, 1, 1, 1, 10], MO=14)}}, py::Vector{TPS64{Descriptor(NV=5, VOS=[1, 1, 1, 1, 10], MO=14)}}}, Int64}}(Beamlines.Species(\"electron\", 0.51099895069, -1.602176634e-19), 60.0, Beamlines.Coord{TPS64{Descriptor(NV=5, VOS=[1, 1, 1, 1, 10], MO=14)}}[4-element Beamlines.Coord{TPS64{Descriptor(NV=5, VOS=[1, 1, 1, 1, 10], MO=14)}}:\n",
       " Index Coefficient                Order   Exponent\n",
       "----------------------------------------------------------------\n",
       "   1:  -1.4345415526880321e+00      1      1   0   0   0   0\n",
       "   1:   1.9807339632633717e+01      1      0   1   0   0   0\n",
       "   1:  -1.0273794209191596e+01      2      1   0   0   0   1\n",
       "   1:   1.8313602082027330e+01      2      0   1   0   0   1\n",
       "   1:  -9.7484447148595930e+00      3      1   0   0   0   2\n",
       "   1:  -1.6683451253815633e+00      3      0   1   0   0   2\n",
       "   1:   1.5746295136582426e-02      4      1   0   0   0   3\n",
       "   1:  -3.7867704516003742e-02      4      0   1   0   0   3\n",
       "   1:   6.4732024014747397e-03      5      1   0   0   0   4\n",
       "   1:   4.7084712341735743e-04      5      0   1   0   0   4\n",
       "   1:  -1.2102145601802068e-06      6      1   0   0   0   5\n",
       "   1:   3.1204550510590836e-06      6      0   1   0   0   5\n",
       "   1:  -3.1706726070258739e-07      7      1   0   0   0   6\n",
       "   1:  -1.4600535318945474e-08      7      0   1   0   0   6\n",
       "   1:   1.7082574211312274e-11      8      1   0   0   0   7\n",
       "  ⋮               ⋮             ⋮  ⋮   ⋮  ⋮   ⋮   ⋮   ⋮   ⋮   ⋮\n",
       "\u001b[36m                                                 74 rows omitted\u001b[0m\n",
       "])"
      ]
     },
     "metadata": {},
     "output_type": "display_data"
    }
   ],
   "source": [
    "bunch = Bunch(x=Δx[1], px=Δx[2], y=Δx[3], py=Δx[4])\n",
    "track!(bunch, bl)"
   ]
  },
  {
   "cell_type": "markdown",
   "metadata": {},
   "source": [
    "The Bunch struct could contain many particles, but in this case we just care about our one particle. To get a simplified `Particle` struct from the `Bunch`, we can just do"
   ]
  },
  {
   "cell_type": "code",
   "execution_count": 69,
   "metadata": {},
   "outputs": [
    {
     "data": {
      "text/plain": [
       "4-element Beamlines.Coord{TPS64{Descriptor(NV=5, VOS=[1, 1, 1, 1, 10], MO=14)}}:\n",
       " Index Coefficient                Order   Exponent\n",
       "----------------------------------------------------------------\n",
       "   1:  -1.4345415526880321e+00      1      1   0   0   0   0\n",
       "   1:   1.9807339632633717e+01      1      0   1   0   0   0\n",
       "   1:  -1.0273794209191596e+01      2      1   0   0   0   1\n",
       "   1:   1.8313602082027330e+01      2      0   1   0   0   1\n",
       "   1:  -9.7484447148595930e+00      3      1   0   0   0   2\n",
       "   1:  -1.6683451253815633e+00      3      0   1   0   0   2\n",
       "   1:   1.5746295136582426e-02      4      1   0   0   0   3\n",
       "   1:  -3.7867704516003742e-02      4      0   1   0   0   3\n",
       "   1:   6.4732024014747397e-03      5      1   0   0   0   4\n",
       "   1:   4.7084712341735743e-04      5      0   1   0   0   4\n",
       "   1:  -1.2102145601802068e-06      6      1   0   0   0   5\n",
       "   1:   3.1204550510590836e-06      6      0   1   0   0   5\n",
       "   1:  -3.1706726070258739e-07      7      1   0   0   0   6\n",
       "   1:  -1.4600535318945474e-08      7      0   1   0   0   6\n",
       "   1:   1.7082574211312274e-11      8      1   0   0   0   7\n",
       "  ⋮               ⋮             ⋮  ⋮   ⋮  ⋮   ⋮   ⋮   ⋮   ⋮   ⋮\n",
       "\u001b[36m                                                 74 rows omitted\u001b[0m\n"
      ]
     },
     "metadata": {},
     "output_type": "display_data"
    }
   ],
   "source": [
    "p = Particle(bunch, 1) # Gets the first particle in the bunch\n",
    "p.v # Parametric GTPSA map"
   ]
  },
  {
   "cell_type": "markdown",
   "metadata": {},
   "source": [
    "We can get the first order transport map using `GTPSA.jacobian`. Note that the last column shows the first-order dependence of the phase space variables on $\\Delta K_1$. Because the beam goes through the center of each quadrupole, this is zero."
   ]
  },
  {
   "cell_type": "code",
   "execution_count": 70,
   "metadata": {},
   "outputs": [
    {
     "data": {
      "text/plain": [
       "4×5 Matrix{Float64}:\n",
       " -1.43454   19.8073    0.0        0.0       0.0\n",
       " -0.205182   2.13595   0.0        0.0       0.0\n",
       "  0.0        0.0       0.904859   5.77094   0.0\n",
       "  0.0        0.0      -0.205182  -0.203449  0.0"
      ]
     },
     "metadata": {},
     "output_type": "display_data"
    }
   ],
   "source": [
    "M = GTPSA.jacobian(p.v)"
   ]
  },
  {
   "cell_type": "markdown",
   "metadata": {},
   "source": [
    "The first row in this matrix corresponds to the linear part of `p.v.x`, the second row `p.v.px`, and so on.\n",
    "\n",
    "To compute the phase advance as a TPSA, we need the $M_{11}$ and $M_{22}$ parts of the jacobian _including the nonlinearities in the parameter_. GTPSA provides some useful ways of indexing and \"splicing\" a `TPS`. To get the fully nonlinear parameter dependence of a truncated power series `t` on the first variable, first order derivative only, we can use `t[[1,0,0,0,:]]`. For the nonlinear parameter dependence of the second variable's first order derivative, `t[[0,1,0,0,:]]`. These are exactly what we can use to get $M_{11}$ and $M_{22}$ as fully nonlinear TPSAs in the parameter."
   ]
  },
  {
   "cell_type": "code",
   "execution_count": 71,
   "metadata": {},
   "outputs": [
    {
     "data": {
      "text/plain": [
       "TPS64{Descriptor(NV=5, VOS=[1, 1, 1, 1, 10], MO=14)}:\n",
       " Coefficient                Order   Exponent\n",
       "  2.1359515789211674e+00      0      0   0   0   0   0\n",
       "  3.0600167190295635e+00      1      0   0   0   0   1\n",
       " -2.6729485967828603e-01      2      0   0   0   0   2\n",
       " -6.3135575340081077e-03      3      0   0   0   0   3\n",
       "  7.6895780048264468e-05      4      0   0   0   0   4\n",
       "  5.2014720371781725e-07      5      0   0   0   0   5\n",
       " -2.4003851176287391e-09      6      0   0   0   0   6\n",
       " -7.5767171245824826e-12      7      0   0   0   0   7\n",
       "  4.3618117650273619e-14      8      0   0   0   0   8\n",
       " -3.7533159303104131e-14      9      0   0   0   0   9\n",
       " -6.1982377847311004e-14     10      0   0   0   0  10\n"
      ]
     },
     "metadata": {},
     "output_type": "display_data"
    }
   ],
   "source": [
    "M_11 = deriv(p.v.x[[1,0,0,0,:]], 1)\n",
    "M_22 = deriv(p.v.px[[0,1,0,0,:]], 2)"
   ]
  },
  {
   "cell_type": "markdown",
   "metadata": {},
   "source": [
    "Now we can compute the phase advance as a TPSA:"
   ]
  },
  {
   "cell_type": "code",
   "execution_count": 72,
   "metadata": {},
   "outputs": [
    {
     "data": {
      "text/plain": [
       "TPS64{Descriptor(NV=5, VOS=[1, 1, 1, 1, 10], MO=14)}:\n",
       " Coefficient                Order   Exponent\n",
       "  1.9297099188200587e-01      0      0   0   0   0   0\n",
       "  6.1298747042403612e-01      1      0   0   0   0   1\n",
       "  4.0901016168073590e-01      2      0   0   0   0   2\n",
       "  9.2478622052015635e-01      3      0   0   0   0   3\n",
       "  2.0489005166551375e+00      4      0   0   0   0   4\n",
       "  5.3726019692045570e+00      5      0   0   0   0   5\n",
       "  1.4810554557624901e+01      6      0   0   0   0   6\n",
       "  4.2928365254905842e+01      7      0   0   0   0   7\n",
       "  1.2843102743286227e+02      8      0   0   0   0   8\n",
       "  3.9408568802985275e+02      9      0   0   0   0   9\n",
       "  1.2330136850087185e+03     10      0   0   0   0  10\n"
      ]
     },
     "metadata": {},
     "output_type": "display_data"
    }
   ],
   "source": [
    "mu = acos(1/2*(M_11+M_22))/(2*pi)"
   ]
  },
  {
   "cell_type": "markdown",
   "metadata": {},
   "source": [
    "We now have `mu` as a TPS to 10th order in $\\Delta K_1$. `mu` can be evaluated just like any function in Julia"
   ]
  },
  {
   "cell_type": "code",
   "execution_count": 73,
   "metadata": {},
   "outputs": [
    {
     "data": {
      "text/plain": [
       "0.27464373802322506"
      ]
     },
     "metadata": {},
     "output_type": "display_data"
    }
   ],
   "source": [
    "guess_ΔK1 = 0.12\n",
    "mu([0,0,0,0,guess_ΔK1])"
   ]
  },
  {
   "cell_type": "markdown",
   "metadata": {},
   "source": [
    "Let's plot `mu` for different choices of $\\Delta K_1$"
   ]
  },
  {
   "cell_type": "code",
   "execution_count": 74,
   "metadata": {},
   "outputs": [
    {
     "data": {
      "image/png": "[encoded data removed]",
      "image/svg+xml": [
       "<?xml version=\"1.0\" encoding=\"utf-8\"?>\n",
       "<svg xmlns=\"http://www.w3.org/2000/svg\" xmlns:xlink=\"http://www.w3.org/1999/xlink\" width=\"600\" height=\"400\" viewBox=\"0 0 2400 1600\">\n",
       "<defs>\n",
       "  <clipPath id=\"clip490\">\n",
       "    <rect x=\"0\" y=\"0\" width=\"2400\" height=\"1600\"/>\n",
       "  </clipPath>\n",
       "</defs>\n",
       "<path clip-path=\"url(#clip490)\" d=\"M0 1600 L2400 1600 L2400 8.88178e-14 L0 8.88178e-14  Z\" fill=\"#ffffff\" fill-rule=\"evenodd\" fill-opacity=\"1\"/>\n",
       "<defs>\n",
       "  <clipPath id=\"clip491\">\n",
       "    <rect x=\"480\" y=\"0\" width=\"1681\" height=\"1600\"/>\n",
       "  </clipPath>\n",
       "</defs>\n",
       "<path clip-path=\"url(#clip490)\" d=\"M249.542 1423.18 L2352.76 1423.18 L2352.76 47.2441 L249.542 47.2441  Z\" fill=\"#ffffff\" fill-rule=\"evenodd\" fill-opacity=\"1\"/>\n",
       "<defs>\n",
       "  <clipPath id=\"clip492\">\n",
       "    <rect x=\"249\" y=\"47\" width=\"2104\" height=\"1377\"/>\n",
       "  </clipPath>\n",
       "</defs>\n",
       "<polyline clip-path=\"url(#clip492)\" style=\"stroke:#000000; stroke-linecap:round; stroke-linejoin:round; stroke-width:2; stroke-opacity:0.1; fill:none\" points=\"309.067,1423.18 309.067,47.2441 \"/>\n",
       "<polyline clip-path=\"url(#clip492)\" style=\"stroke:#000000; stroke-linecap:round; stroke-linejoin:round; stroke-width:2; stroke-opacity:0.1; fill:none\" points=\"639.761,1423.18 639.761,47.2441 \"/>\n",
       "<polyline clip-path=\"url(#clip492)\" style=\"stroke:#000000; stroke-linecap:round; stroke-linejoin:round; stroke-width:2; stroke-opacity:0.1; fill:none\" points=\"970.455,1423.18 970.455,47.2441 \"/>\n",
       "<polyline clip-path=\"url(#clip492)\" style=\"stroke:#000000; stroke-linecap:round; stroke-linejoin:round; stroke-width:2; stroke-opacity:0.1; fill:none\" points=\"1301.15,1423.18 1301.15,47.2441 \"/>\n",
       "<polyline clip-path=\"url(#clip492)\" style=\"stroke:#000000; stroke-linecap:round; stroke-linejoin:round; stroke-width:2; stroke-opacity:0.1; fill:none\" points=\"1631.84,1423.18 1631.84,47.2441 \"/>\n",
       "<polyline clip-path=\"url(#clip492)\" style=\"stroke:#000000; stroke-linecap:round; stroke-linejoin:round; stroke-width:2; stroke-opacity:0.1; fill:none\" points=\"1962.54,1423.18 1962.54,47.2441 \"/>\n",
       "<polyline clip-path=\"url(#clip492)\" style=\"stroke:#000000; stroke-linecap:round; stroke-linejoin:round; stroke-width:2; stroke-opacity:0.1; fill:none\" points=\"2293.23,1423.18 2293.23,47.2441 \"/>\n",
       "<polyline clip-path=\"url(#clip492)\" style=\"stroke:#000000; stroke-linecap:round; stroke-linejoin:round; stroke-width:2; stroke-opacity:0.1; fill:none\" points=\"249.542,1340.3 2352.76,1340.3 \"/>\n",
       "<polyline clip-path=\"url(#clip492)\" style=\"stroke:#000000; stroke-linecap:round; stroke-linejoin:round; stroke-width:2; stroke-opacity:0.1; fill:none\" points=\"249.542,1204.56 2352.76,1204.56 \"/>\n",
       "<polyline clip-path=\"url(#clip492)\" style=\"stroke:#000000; stroke-linecap:round; stroke-linejoin:round; stroke-width:2; stroke-opacity:0.1; fill:none\" points=\"249.542,1068.82 2352.76,1068.82 \"/>\n",
       "<polyline clip-path=\"url(#clip492)\" style=\"stroke:#000000; stroke-linecap:round; stroke-linejoin:round; stroke-width:2; stroke-opacity:0.1; fill:none\" points=\"249.542,933.075 2352.76,933.075 \"/>\n",
       "<polyline clip-path=\"url(#clip492)\" style=\"stroke:#000000; stroke-linecap:round; stroke-linejoin:round; stroke-width:2; stroke-opacity:0.1; fill:none\" points=\"249.542,797.333 2352.76,797.333 \"/>\n",
       "<polyline clip-path=\"url(#clip492)\" style=\"stroke:#000000; stroke-linecap:round; stroke-linejoin:round; stroke-width:2; stroke-opacity:0.1; fill:none\" points=\"249.542,661.591 2352.76,661.591 \"/>\n",
       "<polyline clip-path=\"url(#clip492)\" style=\"stroke:#000000; stroke-linecap:round; stroke-linejoin:round; stroke-width:2; stroke-opacity:0.1; fill:none\" points=\"249.542,525.849 2352.76,525.849 \"/>\n",
       "<polyline clip-path=\"url(#clip492)\" style=\"stroke:#000000; stroke-linecap:round; stroke-linejoin:round; stroke-width:2; stroke-opacity:0.1; fill:none\" points=\"249.542,390.107 2352.76,390.107 \"/>\n",
       "<polyline clip-path=\"url(#clip492)\" style=\"stroke:#000000; stroke-linecap:round; stroke-linejoin:round; stroke-width:2; stroke-opacity:0.1; fill:none\" points=\"249.542,254.365 2352.76,254.365 \"/>\n",
       "<polyline clip-path=\"url(#clip492)\" style=\"stroke:#000000; stroke-linecap:round; stroke-linejoin:round; stroke-width:2; stroke-opacity:0.1; fill:none\" points=\"249.542,118.623 2352.76,118.623 \"/>\n",
       "<polyline clip-path=\"url(#clip490)\" style=\"stroke:#000000; stroke-linecap:round; stroke-linejoin:round; stroke-width:4; stroke-opacity:1; fill:none\" points=\"249.542,1423.18 2352.76,1423.18 \"/>\n",
       "<polyline clip-path=\"url(#clip490)\" style=\"stroke:#000000; stroke-linecap:round; stroke-linejoin:round; stroke-width:4; stroke-opacity:1; fill:none\" points=\"309.067,1423.18 309.067,1404.28 \"/>\n",
       "<polyline clip-path=\"url(#clip490)\" style=\"stroke:#000000; stroke-linecap:round; stroke-linejoin:round; stroke-width:4; stroke-opacity:1; fill:none\" points=\"639.761,1423.18 639.761,1404.28 \"/>\n",
       "<polyline clip-path=\"url(#clip490)\" style=\"stroke:#000000; stroke-linecap:round; stroke-linejoin:round; stroke-width:4; stroke-opacity:1; fill:none\" points=\"970.455,1423.18 970.455,1404.28 \"/>\n",
       "<polyline clip-path=\"url(#clip490)\" style=\"stroke:#000000; stroke-linecap:round; stroke-linejoin:round; stroke-width:4; stroke-opacity:1; fill:none\" points=\"1301.15,1423.18 1301.15,1404.28 \"/>\n",
       "<polyline clip-path=\"url(#clip490)\" style=\"stroke:#000000; stroke-linecap:round; stroke-linejoin:round; stroke-width:4; stroke-opacity:1; fill:none\" points=\"1631.84,1423.18 1631.84,1404.28 \"/>\n",
       "<polyline clip-path=\"url(#clip490)\" style=\"stroke:#000000; stroke-linecap:round; stroke-linejoin:round; stroke-width:4; stroke-opacity:1; fill:none\" points=\"1962.54,1423.18 1962.54,1404.28 \"/>\n",
       "<polyline clip-path=\"url(#clip490)\" style=\"stroke:#000000; stroke-linecap:round; stroke-linejoin:round; stroke-width:4; stroke-opacity:1; fill:none\" points=\"2293.23,1423.18 2293.23,1404.28 \"/>\n",
       "<path clip-path=\"url(#clip490)\" d=\"M255.919 1468.75 L285.595 1468.75 L285.595 1472.69 L255.919 1472.69 L255.919 1468.75 Z\" fill=\"#000000\" fill-rule=\"nonzero\" fill-opacity=\"1\" /><path clip-path=\"url(#clip490)\" d=\"M305.687 1454.1 Q302.076 1454.1 300.248 1457.66 Q298.442 1461.2 298.442 1468.33 Q298.442 1475.44 300.248 1479.01 Q302.076 1482.55 305.687 1482.55 Q309.322 1482.55 311.127 1479.01 Q312.956 1475.44 312.956 1468.33 Q312.956 1461.2 311.127 1457.66 Q309.322 1454.1 305.687 1454.1 M305.687 1450.39 Q311.497 1450.39 314.553 1455 Q317.632 1459.58 317.632 1468.33 Q317.632 1477.06 314.553 1481.67 Q311.497 1486.25 305.687 1486.25 Q299.877 1486.25 296.799 1481.67 Q293.743 1477.06 293.743 1468.33 Q293.743 1459.58 296.799 1455 Q299.877 1450.39 305.687 1450.39 Z\" fill=\"#000000\" fill-rule=\"nonzero\" fill-opacity=\"1\" /><path clip-path=\"url(#clip490)\" d=\"M325.849 1479.7 L330.734 1479.7 L330.734 1485.58 L325.849 1485.58 L325.849 1479.7 Z\" fill=\"#000000\" fill-rule=\"nonzero\" fill-opacity=\"1\" /><path clip-path=\"url(#clip490)\" d=\"M355.085 1466.95 Q358.442 1467.66 360.317 1469.93 Q362.215 1472.2 362.215 1475.53 Q362.215 1480.65 358.696 1483.45 Q355.178 1486.25 348.696 1486.25 Q346.52 1486.25 344.206 1485.81 Q341.914 1485.39 339.46 1484.54 L339.46 1480.02 Q341.405 1481.16 343.72 1481.74 Q346.034 1482.32 348.557 1482.32 Q352.956 1482.32 355.247 1480.58 Q357.562 1478.84 357.562 1475.53 Q357.562 1472.48 355.409 1470.77 Q353.28 1469.03 349.46 1469.03 L345.432 1469.03 L345.432 1465.19 L349.645 1465.19 Q353.094 1465.19 354.923 1463.82 Q356.752 1462.43 356.752 1459.84 Q356.752 1457.18 354.854 1455.77 Q352.979 1454.33 349.46 1454.33 Q347.539 1454.33 345.34 1454.75 Q343.141 1455.16 340.502 1456.04 L340.502 1451.88 Q343.164 1451.14 345.479 1450.77 Q347.817 1450.39 349.877 1450.39 Q355.201 1450.39 358.303 1452.83 Q361.405 1455.23 361.405 1459.35 Q361.405 1462.22 359.761 1464.21 Q358.118 1466.18 355.085 1466.95 Z\" fill=\"#000000\" fill-rule=\"nonzero\" fill-opacity=\"1\" /><path clip-path=\"url(#clip490)\" d=\"M587.088 1468.75 L616.763 1468.75 L616.763 1472.69 L587.088 1472.69 L587.088 1468.75 Z\" fill=\"#000000\" fill-rule=\"nonzero\" fill-opacity=\"1\" /><path clip-path=\"url(#clip490)\" d=\"M636.856 1454.1 Q633.245 1454.1 631.416 1457.66 Q629.611 1461.2 629.611 1468.33 Q629.611 1475.44 631.416 1479.01 Q633.245 1482.55 636.856 1482.55 Q640.49 1482.55 642.296 1479.01 Q644.124 1475.44 644.124 1468.33 Q644.124 1461.2 642.296 1457.66 Q640.49 1454.1 636.856 1454.1 M636.856 1450.39 Q642.666 1450.39 645.722 1455 Q648.8 1459.58 648.8 1468.33 Q648.8 1477.06 645.722 1481.67 Q642.666 1486.25 636.856 1486.25 Q631.046 1486.25 627.967 1481.67 Q624.912 1477.06 624.912 1468.33 Q624.912 1459.58 627.967 1455 Q631.046 1450.39 636.856 1450.39 Z\" fill=\"#000000\" fill-rule=\"nonzero\" fill-opacity=\"1\" /><path clip-path=\"url(#clip490)\" d=\"M657.018 1479.7 L661.902 1479.7 L661.902 1485.58 L657.018 1485.58 L657.018 1479.7 Z\" fill=\"#000000\" fill-rule=\"nonzero\" fill-opacity=\"1\" /><path clip-path=\"url(#clip490)\" d=\"M676.115 1481.64 L692.434 1481.64 L692.434 1485.58 L670.49 1485.58 L670.49 1481.64 Q673.152 1478.89 677.735 1474.26 Q682.342 1469.61 683.522 1468.27 Q685.768 1465.74 686.647 1464.01 Q687.55 1462.25 687.55 1460.56 Q687.55 1457.8 685.606 1456.07 Q683.684 1454.33 680.582 1454.33 Q678.383 1454.33 675.93 1455.09 Q673.499 1455.86 670.721 1457.41 L670.721 1452.69 Q673.546 1451.55 675.999 1450.97 Q678.453 1450.39 680.49 1450.39 Q685.86 1450.39 689.055 1453.08 Q692.249 1455.77 692.249 1460.26 Q692.249 1462.39 691.439 1464.31 Q690.652 1466.2 688.545 1468.8 Q687.967 1469.47 684.865 1472.69 Q681.763 1475.88 676.115 1481.64 Z\" fill=\"#000000\" fill-rule=\"nonzero\" fill-opacity=\"1\" /><path clip-path=\"url(#clip490)\" d=\"M917.596 1468.75 L947.272 1468.75 L947.272 1472.69 L917.596 1472.69 L917.596 1468.75 Z\" fill=\"#000000\" fill-rule=\"nonzero\" fill-opacity=\"1\" /><path clip-path=\"url(#clip490)\" d=\"M967.365 1454.1 Q963.754 1454.1 961.925 1457.66 Q960.119 1461.2 960.119 1468.33 Q960.119 1475.44 961.925 1479.01 Q963.754 1482.55 967.365 1482.55 Q970.999 1482.55 972.804 1479.01 Q974.633 1475.44 974.633 1468.33 Q974.633 1461.2 972.804 1457.66 Q970.999 1454.1 967.365 1454.1 M967.365 1450.39 Q973.175 1450.39 976.23 1455 Q979.309 1459.58 979.309 1468.33 Q979.309 1477.06 976.23 1481.67 Q973.175 1486.25 967.365 1486.25 Q961.555 1486.25 958.476 1481.67 Q955.42 1477.06 955.42 1468.33 Q955.42 1459.58 958.476 1455 Q961.555 1450.39 967.365 1450.39 Z\" fill=\"#000000\" fill-rule=\"nonzero\" fill-opacity=\"1\" /><path clip-path=\"url(#clip490)\" d=\"M987.527 1479.7 L992.411 1479.7 L992.411 1485.58 L987.527 1485.58 L987.527 1479.7 Z\" fill=\"#000000\" fill-rule=\"nonzero\" fill-opacity=\"1\" /><path clip-path=\"url(#clip490)\" d=\"M1003.41 1481.64 L1011.05 1481.64 L1011.05 1455.28 L1002.73 1456.95 L1002.73 1452.69 L1011 1451.02 L1015.67 1451.02 L1015.67 1481.64 L1023.31 1481.64 L1023.31 1485.58 L1003.41 1485.58 L1003.41 1481.64 Z\" fill=\"#000000\" fill-rule=\"nonzero\" fill-opacity=\"1\" /><path clip-path=\"url(#clip490)\" d=\"M1278.53 1454.1 Q1274.92 1454.1 1273.09 1457.66 Q1271.29 1461.2 1271.29 1468.33 Q1271.29 1475.44 1273.09 1479.01 Q1274.92 1482.55 1278.53 1482.55 Q1282.17 1482.55 1283.97 1479.01 Q1285.8 1475.44 1285.8 1468.33 Q1285.8 1461.2 1283.97 1457.66 Q1282.17 1454.1 1278.53 1454.1 M1278.53 1450.39 Q1284.34 1450.39 1287.4 1455 Q1290.48 1459.58 1290.48 1468.33 Q1290.48 1477.06 1287.4 1481.67 Q1284.34 1486.25 1278.53 1486.25 Q1272.72 1486.25 1269.64 1481.67 Q1266.59 1477.06 1266.59 1468.33 Q1266.59 1459.58 1269.64 1455 Q1272.72 1450.39 1278.53 1450.39 Z\" fill=\"#000000\" fill-rule=\"nonzero\" fill-opacity=\"1\" /><path clip-path=\"url(#clip490)\" d=\"M1298.7 1479.7 L1303.58 1479.7 L1303.58 1485.58 L1298.7 1485.58 L1298.7 1479.7 Z\" fill=\"#000000\" fill-rule=\"nonzero\" fill-opacity=\"1\" /><path clip-path=\"url(#clip490)\" d=\"M1323.76 1454.1 Q1320.15 1454.1 1318.32 1457.66 Q1316.52 1461.2 1316.52 1468.33 Q1316.52 1475.44 1318.32 1479.01 Q1320.15 1482.55 1323.76 1482.55 Q1327.4 1482.55 1329.2 1479.01 Q1331.03 1475.44 1331.03 1468.33 Q1331.03 1461.2 1329.2 1457.66 Q1327.4 1454.1 1323.76 1454.1 M1323.76 1450.39 Q1329.57 1450.39 1332.63 1455 Q1335.71 1459.58 1335.71 1468.33 Q1335.71 1477.06 1332.63 1481.67 Q1329.57 1486.25 1323.76 1486.25 Q1317.95 1486.25 1314.88 1481.67 Q1311.82 1477.06 1311.82 1468.33 Q1311.82 1459.58 1314.88 1455 Q1317.95 1450.39 1323.76 1450.39 Z\" fill=\"#000000\" fill-rule=\"nonzero\" fill-opacity=\"1\" /><path clip-path=\"url(#clip490)\" d=\"M1609.84 1454.1 Q1606.23 1454.1 1604.4 1457.66 Q1602.6 1461.2 1602.6 1468.33 Q1602.6 1475.44 1604.4 1479.01 Q1606.23 1482.55 1609.84 1482.55 Q1613.48 1482.55 1615.28 1479.01 Q1617.11 1475.44 1617.11 1468.33 Q1617.11 1461.2 1615.28 1457.66 Q1613.48 1454.1 1609.84 1454.1 M1609.84 1450.39 Q1615.65 1450.39 1618.71 1455 Q1621.79 1459.58 1621.79 1468.33 Q1621.79 1477.06 1618.71 1481.67 Q1615.65 1486.25 1609.84 1486.25 Q1604.03 1486.25 1600.95 1481.67 Q1597.9 1477.06 1597.9 1468.33 Q1597.9 1459.58 1600.95 1455 Q1604.03 1450.39 1609.84 1450.39 Z\" fill=\"#000000\" fill-rule=\"nonzero\" fill-opacity=\"1\" /><path clip-path=\"url(#clip490)\" d=\"M1630 1479.7 L1634.89 1479.7 L1634.89 1485.58 L1630 1485.58 L1630 1479.7 Z\" fill=\"#000000\" fill-rule=\"nonzero\" fill-opacity=\"1\" /><path clip-path=\"url(#clip490)\" d=\"M1645.88 1481.64 L1653.52 1481.64 L1653.52 1455.28 L1645.21 1456.95 L1645.21 1452.69 L1653.47 1451.02 L1658.15 1451.02 L1658.15 1481.64 L1665.79 1481.64 L1665.79 1485.58 L1645.88 1485.58 L1645.88 1481.64 Z\" fill=\"#000000\" fill-rule=\"nonzero\" fill-opacity=\"1\" /><path clip-path=\"url(#clip490)\" d=\"M1940.72 1454.1 Q1937.11 1454.1 1935.28 1457.66 Q1933.47 1461.2 1933.47 1468.33 Q1933.47 1475.44 1935.28 1479.01 Q1937.11 1482.55 1940.72 1482.55 Q1944.35 1482.55 1946.16 1479.01 Q1947.99 1475.44 1947.99 1468.33 Q1947.99 1461.2 1946.16 1457.66 Q1944.35 1454.1 1940.72 1454.1 M1940.72 1450.39 Q1946.53 1450.39 1949.59 1455 Q1952.66 1459.58 1952.66 1468.33 Q1952.66 1477.06 1949.59 1481.67 Q1946.53 1486.25 1940.72 1486.25 Q1934.91 1486.25 1931.83 1481.67 Q1928.78 1477.06 1928.78 1468.33 Q1928.78 1459.58 1931.83 1455 Q1934.91 1450.39 1940.72 1450.39 Z\" fill=\"#000000\" fill-rule=\"nonzero\" fill-opacity=\"1\" /><path clip-path=\"url(#clip490)\" d=\"M1960.88 1479.7 L1965.77 1479.7 L1965.77 1485.58 L1960.88 1485.58 L1960.88 1479.7 Z\" fill=\"#000000\" fill-rule=\"nonzero\" fill-opacity=\"1\" /><path clip-path=\"url(#clip490)\" d=\"M1979.98 1481.64 L1996.3 1481.64 L1996.3 1485.58 L1974.35 1485.58 L1974.35 1481.64 Q1977.02 1478.89 1981.6 1474.26 Q1986.21 1469.61 1987.39 1468.27 Q1989.63 1465.74 1990.51 1464.01 Q1991.41 1462.25 1991.41 1460.56 Q1991.41 1457.8 1989.47 1456.07 Q1987.55 1454.33 1984.45 1454.33 Q1982.25 1454.33 1979.79 1455.09 Q1977.36 1455.86 1974.59 1457.41 L1974.59 1452.69 Q1977.41 1451.55 1979.86 1450.97 Q1982.32 1450.39 1984.35 1450.39 Q1989.72 1450.39 1992.92 1453.08 Q1996.11 1455.77 1996.11 1460.26 Q1996.11 1462.39 1995.3 1464.31 Q1994.52 1466.2 1992.41 1468.8 Q1991.83 1469.47 1988.73 1472.69 Q1985.63 1475.88 1979.98 1481.64 Z\" fill=\"#000000\" fill-rule=\"nonzero\" fill-opacity=\"1\" /><path clip-path=\"url(#clip490)\" d=\"M2270.94 1454.1 Q2267.33 1454.1 2265.5 1457.66 Q2263.69 1461.2 2263.69 1468.33 Q2263.69 1475.44 2265.5 1479.01 Q2267.33 1482.55 2270.94 1482.55 Q2274.57 1482.55 2276.38 1479.01 Q2278.21 1475.44 2278.21 1468.33 Q2278.21 1461.2 2276.38 1457.66 Q2274.57 1454.1 2270.94 1454.1 M2270.94 1450.39 Q2276.75 1450.39 2279.81 1455 Q2282.88 1459.58 2282.88 1468.33 Q2282.88 1477.06 2279.81 1481.67 Q2276.75 1486.25 2270.94 1486.25 Q2265.13 1486.25 2262.05 1481.67 Q2259 1477.06 2259 1468.33 Q2259 1459.58 2262.05 1455 Q2265.13 1450.39 2270.94 1450.39 Z\" fill=\"#000000\" fill-rule=\"nonzero\" fill-opacity=\"1\" /><path clip-path=\"url(#clip490)\" d=\"M2291.1 1479.7 L2295.99 1479.7 L2295.99 1485.58 L2291.1 1485.58 L2291.1 1479.7 Z\" fill=\"#000000\" fill-rule=\"nonzero\" fill-opacity=\"1\" /><path clip-path=\"url(#clip490)\" d=\"M2320.34 1466.95 Q2323.69 1467.66 2325.57 1469.93 Q2327.47 1472.2 2327.47 1475.53 Q2327.47 1480.65 2323.95 1483.45 Q2320.43 1486.25 2313.95 1486.25 Q2311.77 1486.25 2309.46 1485.81 Q2307.17 1485.39 2304.71 1484.54 L2304.71 1480.02 Q2306.66 1481.16 2308.97 1481.74 Q2311.29 1482.32 2313.81 1482.32 Q2318.21 1482.32 2320.5 1480.58 Q2322.81 1478.84 2322.81 1475.53 Q2322.81 1472.48 2320.66 1470.77 Q2318.53 1469.03 2314.71 1469.03 L2310.68 1469.03 L2310.68 1465.19 L2314.9 1465.19 Q2318.35 1465.19 2320.18 1463.82 Q2322 1462.43 2322 1459.84 Q2322 1457.18 2320.11 1455.77 Q2318.23 1454.33 2314.71 1454.33 Q2312.79 1454.33 2310.59 1454.75 Q2308.39 1455.16 2305.75 1456.04 L2305.75 1451.88 Q2308.42 1451.14 2310.73 1450.77 Q2313.07 1450.39 2315.13 1450.39 Q2320.45 1450.39 2323.55 1452.83 Q2326.66 1455.23 2326.66 1459.35 Q2326.66 1462.22 2325.01 1464.21 Q2323.37 1466.18 2320.34 1466.95 Z\" fill=\"#000000\" fill-rule=\"nonzero\" fill-opacity=\"1\" /><path clip-path=\"url(#clip490)\" d=\"M1261.78 1526.86 L1248.73 1562.7 L1274.86 1562.7 L1261.78 1526.86 M1240.01 1568.04 L1258.15 1520.52 L1265.44 1520.52 L1283.55 1568.04 L1240.01 1568.04 Z\" fill=\"#000000\" fill-rule=\"nonzero\" fill-opacity=\"1\" /><path clip-path=\"url(#clip490)\" d=\"M1290.49 1520.52 L1296.92 1520.52 L1296.92 1540.61 L1318.24 1520.52 L1326.52 1520.52 L1302.93 1542.68 L1328.2 1568.04 L1319.74 1568.04 L1296.92 1545.16 L1296.92 1568.04 L1290.49 1568.04 L1290.49 1520.52 Z\" fill=\"#000000\" fill-rule=\"nonzero\" fill-opacity=\"1\" /><path clip-path=\"url(#clip490)\" d=\"M1334.92 1562.63 L1345.42 1562.63 L1345.42 1526.38 L1334 1528.67 L1334 1522.82 L1345.36 1520.52 L1351.79 1520.52 L1351.79 1562.63 L1362.29 1562.63 L1362.29 1568.04 L1334.92 1568.04 L1334.92 1562.63 Z\" fill=\"#000000\" fill-rule=\"nonzero\" fill-opacity=\"1\" /><polyline clip-path=\"url(#clip490)\" style=\"stroke:#000000; stroke-linecap:round; stroke-linejoin:round; stroke-width:4; stroke-opacity:1; fill:none\" points=\"249.542,1423.18 249.542,47.2441 \"/>\n",
       "<polyline clip-path=\"url(#clip490)\" style=\"stroke:#000000; stroke-linecap:round; stroke-linejoin:round; stroke-width:4; stroke-opacity:1; fill:none\" points=\"249.542,1340.3 268.44,1340.3 \"/>\n",
       "<polyline clip-path=\"url(#clip490)\" style=\"stroke:#000000; stroke-linecap:round; stroke-linejoin:round; stroke-width:4; stroke-opacity:1; fill:none\" points=\"249.542,1204.56 268.44,1204.56 \"/>\n",
       "<polyline clip-path=\"url(#clip490)\" style=\"stroke:#000000; stroke-linecap:round; stroke-linejoin:round; stroke-width:4; stroke-opacity:1; fill:none\" points=\"249.542,1068.82 268.44,1068.82 \"/>\n",
       "<polyline clip-path=\"url(#clip490)\" style=\"stroke:#000000; stroke-linecap:round; stroke-linejoin:round; stroke-width:4; stroke-opacity:1; fill:none\" points=\"249.542,933.075 268.44,933.075 \"/>\n",
       "<polyline clip-path=\"url(#clip490)\" style=\"stroke:#000000; stroke-linecap:round; stroke-linejoin:round; stroke-width:4; stroke-opacity:1; fill:none\" points=\"249.542,797.333 268.44,797.333 \"/>\n",
       "<polyline clip-path=\"url(#clip490)\" style=\"stroke:#000000; stroke-linecap:round; stroke-linejoin:round; stroke-width:4; stroke-opacity:1; fill:none\" points=\"249.542,661.591 268.44,661.591 \"/>\n",
       "<polyline clip-path=\"url(#clip490)\" style=\"stroke:#000000; stroke-linecap:round; stroke-linejoin:round; stroke-width:4; stroke-opacity:1; fill:none\" points=\"249.542,525.849 268.44,525.849 \"/>\n",
       "<polyline clip-path=\"url(#clip490)\" style=\"stroke:#000000; stroke-linecap:round; stroke-linejoin:round; stroke-width:4; stroke-opacity:1; fill:none\" points=\"249.542,390.107 268.44,390.107 \"/>\n",
       "<polyline clip-path=\"url(#clip490)\" style=\"stroke:#000000; stroke-linecap:round; stroke-linejoin:round; stroke-width:4; stroke-opacity:1; fill:none\" points=\"249.542,254.365 268.44,254.365 \"/>\n",
       "<polyline clip-path=\"url(#clip490)\" style=\"stroke:#000000; stroke-linecap:round; stroke-linejoin:round; stroke-width:4; stroke-opacity:1; fill:none\" points=\"249.542,118.623 268.44,118.623 \"/>\n",
       "<path clip-path=\"url(#clip490)\" d=\"M127.2 1326.1 Q123.589 1326.1 121.76 1329.66 Q119.955 1333.21 119.955 1340.34 Q119.955 1347.44 121.76 1351.01 Q123.589 1354.55 127.2 1354.55 Q130.834 1354.55 132.64 1351.01 Q134.468 1347.44 134.468 1340.34 Q134.468 1333.21 132.64 1329.66 Q130.834 1326.1 127.2 1326.1 M127.2 1322.4 Q133.01 1322.4 136.066 1327 Q139.144 1331.59 139.144 1340.34 Q139.144 1349.06 136.066 1353.67 Q133.01 1358.25 127.2 1358.25 Q121.39 1358.25 118.311 1353.67 Q115.256 1349.06 115.256 1340.34 Q115.256 1331.59 118.311 1327 Q121.39 1322.4 127.2 1322.4 Z\" fill=\"#000000\" fill-rule=\"nonzero\" fill-opacity=\"1\" /><path clip-path=\"url(#clip490)\" d=\"M147.362 1351.7 L152.246 1351.7 L152.246 1357.58 L147.362 1357.58 L147.362 1351.7 Z\" fill=\"#000000\" fill-rule=\"nonzero\" fill-opacity=\"1\" /><path clip-path=\"url(#clip490)\" d=\"M172.431 1326.1 Q168.82 1326.1 166.991 1329.66 Q165.186 1333.21 165.186 1340.34 Q165.186 1347.44 166.991 1351.01 Q168.82 1354.55 172.431 1354.55 Q176.065 1354.55 177.871 1351.01 Q179.7 1347.44 179.7 1340.34 Q179.7 1333.21 177.871 1329.66 Q176.065 1326.1 172.431 1326.1 M172.431 1322.4 Q178.241 1322.4 181.297 1327 Q184.376 1331.59 184.376 1340.34 Q184.376 1349.06 181.297 1353.67 Q178.241 1358.25 172.431 1358.25 Q166.621 1358.25 163.542 1353.67 Q160.487 1349.06 160.487 1340.34 Q160.487 1331.59 163.542 1327 Q166.621 1322.4 172.431 1322.4 Z\" fill=\"#000000\" fill-rule=\"nonzero\" fill-opacity=\"1\" /><path clip-path=\"url(#clip490)\" d=\"M192.639 1323.02 L210.996 1323.02 L210.996 1326.96 L196.922 1326.96 L196.922 1335.43 Q197.94 1335.08 198.959 1334.92 Q199.977 1334.73 200.996 1334.73 Q206.783 1334.73 210.162 1337.91 Q213.542 1341.08 213.542 1346.49 Q213.542 1352.07 210.07 1355.17 Q206.598 1358.25 200.278 1358.25 Q198.102 1358.25 195.834 1357.88 Q193.588 1357.51 191.181 1356.77 L191.181 1352.07 Q193.264 1353.21 195.487 1353.76 Q197.709 1354.32 200.186 1354.32 Q204.19 1354.32 206.528 1352.21 Q208.866 1350.1 208.866 1346.49 Q208.866 1342.88 206.528 1340.78 Q204.19 1338.67 200.186 1338.67 Q198.311 1338.67 196.436 1339.09 Q194.584 1339.5 192.639 1340.38 L192.639 1323.02 Z\" fill=\"#000000\" fill-rule=\"nonzero\" fill-opacity=\"1\" /><path clip-path=\"url(#clip490)\" d=\"M126.205 1190.36 Q122.593 1190.36 120.765 1193.92 Q118.959 1197.46 118.959 1204.59 Q118.959 1211.7 120.765 1215.27 Q122.593 1218.81 126.205 1218.81 Q129.839 1218.81 131.644 1215.27 Q133.473 1211.7 133.473 1204.59 Q133.473 1197.46 131.644 1193.92 Q129.839 1190.36 126.205 1190.36 M126.205 1186.65 Q132.015 1186.65 135.07 1191.26 Q138.149 1195.84 138.149 1204.59 Q138.149 1213.32 135.07 1217.93 Q132.015 1222.51 126.205 1222.51 Q120.394 1222.51 117.316 1217.93 Q114.26 1213.32 114.26 1204.59 Q114.26 1195.84 117.316 1191.26 Q120.394 1186.65 126.205 1186.65 Z\" fill=\"#000000\" fill-rule=\"nonzero\" fill-opacity=\"1\" /><path clip-path=\"url(#clip490)\" d=\"M146.366 1215.96 L151.251 1215.96 L151.251 1221.84 L146.366 1221.84 L146.366 1215.96 Z\" fill=\"#000000\" fill-rule=\"nonzero\" fill-opacity=\"1\" /><path clip-path=\"url(#clip490)\" d=\"M162.246 1217.9 L169.885 1217.9 L169.885 1191.54 L161.575 1193.21 L161.575 1188.95 L169.839 1187.28 L174.514 1187.28 L174.514 1217.9 L182.153 1217.9 L182.153 1221.84 L162.246 1221.84 L162.246 1217.9 Z\" fill=\"#000000\" fill-rule=\"nonzero\" fill-opacity=\"1\" /><path clip-path=\"url(#clip490)\" d=\"M201.598 1190.36 Q197.987 1190.36 196.158 1193.92 Q194.352 1197.46 194.352 1204.59 Q194.352 1211.7 196.158 1215.27 Q197.987 1218.81 201.598 1218.81 Q205.232 1218.81 207.037 1215.27 Q208.866 1211.7 208.866 1204.59 Q208.866 1197.46 207.037 1193.92 Q205.232 1190.36 201.598 1190.36 M201.598 1186.65 Q207.408 1186.65 210.463 1191.26 Q213.542 1195.84 213.542 1204.59 Q213.542 1213.32 210.463 1217.93 Q207.408 1222.51 201.598 1222.51 Q195.787 1222.51 192.709 1217.93 Q189.653 1213.32 189.653 1204.59 Q189.653 1195.84 192.709 1191.26 Q195.787 1186.65 201.598 1186.65 Z\" fill=\"#000000\" fill-rule=\"nonzero\" fill-opacity=\"1\" /><path clip-path=\"url(#clip490)\" d=\"M127.2 1054.62 Q123.589 1054.62 121.76 1058.18 Q119.955 1061.72 119.955 1068.85 Q119.955 1075.96 121.76 1079.52 Q123.589 1083.06 127.2 1083.06 Q130.834 1083.06 132.64 1079.52 Q134.468 1075.96 134.468 1068.85 Q134.468 1061.72 132.64 1058.18 Q130.834 1054.62 127.2 1054.62 M127.2 1050.91 Q133.01 1050.91 136.066 1055.52 Q139.144 1060.1 139.144 1068.85 Q139.144 1077.58 136.066 1082.19 Q133.01 1086.77 127.2 1086.77 Q121.39 1086.77 118.311 1082.19 Q115.256 1077.58 115.256 1068.85 Q115.256 1060.1 118.311 1055.52 Q121.39 1050.91 127.2 1050.91 Z\" fill=\"#000000\" fill-rule=\"nonzero\" fill-opacity=\"1\" /><path clip-path=\"url(#clip490)\" d=\"M147.362 1080.22 L152.246 1080.22 L152.246 1086.1 L147.362 1086.1 L147.362 1080.22 Z\" fill=\"#000000\" fill-rule=\"nonzero\" fill-opacity=\"1\" /><path clip-path=\"url(#clip490)\" d=\"M163.241 1082.16 L170.88 1082.16 L170.88 1055.8 L162.57 1057.46 L162.57 1053.2 L170.834 1051.54 L175.51 1051.54 L175.51 1082.16 L183.149 1082.16 L183.149 1086.1 L163.241 1086.1 L163.241 1082.16 Z\" fill=\"#000000\" fill-rule=\"nonzero\" fill-opacity=\"1\" /><path clip-path=\"url(#clip490)\" d=\"M192.639 1051.54 L210.996 1051.54 L210.996 1055.47 L196.922 1055.47 L196.922 1063.94 Q197.94 1063.6 198.959 1063.44 Q199.977 1063.25 200.996 1063.25 Q206.783 1063.25 210.162 1066.42 Q213.542 1069.59 213.542 1075.01 Q213.542 1080.59 210.07 1083.69 Q206.598 1086.77 200.278 1086.77 Q198.102 1086.77 195.834 1086.4 Q193.588 1086.03 191.181 1085.29 L191.181 1080.59 Q193.264 1081.72 195.487 1082.28 Q197.709 1082.83 200.186 1082.83 Q204.19 1082.83 206.528 1080.73 Q208.866 1078.62 208.866 1075.01 Q208.866 1071.4 206.528 1069.29 Q204.19 1067.19 200.186 1067.19 Q198.311 1067.19 196.436 1067.6 Q194.584 1068.02 192.639 1068.9 L192.639 1051.54 Z\" fill=\"#000000\" fill-rule=\"nonzero\" fill-opacity=\"1\" /><path clip-path=\"url(#clip490)\" d=\"M126.205 918.874 Q122.593 918.874 120.765 922.439 Q118.959 925.98 118.959 933.11 Q118.959 940.216 120.765 943.781 Q122.593 947.323 126.205 947.323 Q129.839 947.323 131.644 943.781 Q133.473 940.216 133.473 933.11 Q133.473 925.98 131.644 922.439 Q129.839 918.874 126.205 918.874 M126.205 915.17 Q132.015 915.17 135.07 919.777 Q138.149 924.36 138.149 933.11 Q138.149 941.837 135.07 946.443 Q132.015 951.026 126.205 951.026 Q120.394 951.026 117.316 946.443 Q114.26 941.837 114.26 933.11 Q114.26 924.36 117.316 919.777 Q120.394 915.17 126.205 915.17 Z\" fill=\"#000000\" fill-rule=\"nonzero\" fill-opacity=\"1\" /><path clip-path=\"url(#clip490)\" d=\"M146.366 944.476 L151.251 944.476 L151.251 950.355 L146.366 950.355 L146.366 944.476 Z\" fill=\"#000000\" fill-rule=\"nonzero\" fill-opacity=\"1\" /><path clip-path=\"url(#clip490)\" d=\"M165.464 946.42 L181.783 946.42 L181.783 950.355 L159.839 950.355 L159.839 946.42 Q162.501 943.665 167.084 939.036 Q171.69 934.383 172.871 933.04 Q175.116 930.517 175.996 928.781 Q176.899 927.022 176.899 925.332 Q176.899 922.578 174.954 920.841 Q173.033 919.105 169.931 919.105 Q167.732 919.105 165.278 919.869 Q162.848 920.633 160.07 922.184 L160.07 917.462 Q162.894 916.328 165.348 915.749 Q167.802 915.17 169.839 915.17 Q175.209 915.17 178.403 917.855 Q181.598 920.541 181.598 925.031 Q181.598 927.161 180.788 929.082 Q180.001 930.98 177.894 933.573 Q177.315 934.244 174.214 937.462 Q171.112 940.656 165.464 946.42 Z\" fill=\"#000000\" fill-rule=\"nonzero\" fill-opacity=\"1\" /><path clip-path=\"url(#clip490)\" d=\"M201.598 918.874 Q197.987 918.874 196.158 922.439 Q194.352 925.98 194.352 933.11 Q194.352 940.216 196.158 943.781 Q197.987 947.323 201.598 947.323 Q205.232 947.323 207.037 943.781 Q208.866 940.216 208.866 933.11 Q208.866 925.98 207.037 922.439 Q205.232 918.874 201.598 918.874 M201.598 915.17 Q207.408 915.17 210.463 919.777 Q213.542 924.36 213.542 933.11 Q213.542 941.837 210.463 946.443 Q207.408 951.026 201.598 951.026 Q195.787 951.026 192.709 946.443 Q189.653 941.837 189.653 933.11 Q189.653 924.36 192.709 919.777 Q195.787 915.17 201.598 915.17 Z\" fill=\"#000000\" fill-rule=\"nonzero\" fill-opacity=\"1\" /><path clip-path=\"url(#clip490)\" d=\"M127.2 783.132 Q123.589 783.132 121.76 786.697 Q119.955 790.238 119.955 797.368 Q119.955 804.474 121.76 808.039 Q123.589 811.581 127.2 811.581 Q130.834 811.581 132.64 808.039 Q134.468 804.474 134.468 797.368 Q134.468 790.238 132.64 786.697 Q130.834 783.132 127.2 783.132 M127.2 779.428 Q133.01 779.428 136.066 784.035 Q139.144 788.618 139.144 797.368 Q139.144 806.095 136.066 810.701 Q133.01 815.284 127.2 815.284 Q121.39 815.284 118.311 810.701 Q115.256 806.095 115.256 797.368 Q115.256 788.618 118.311 784.035 Q121.39 779.428 127.2 779.428 Z\" fill=\"#000000\" fill-rule=\"nonzero\" fill-opacity=\"1\" /><path clip-path=\"url(#clip490)\" d=\"M147.362 808.734 L152.246 808.734 L152.246 814.613 L147.362 814.613 L147.362 808.734 Z\" fill=\"#000000\" fill-rule=\"nonzero\" fill-opacity=\"1\" /><path clip-path=\"url(#clip490)\" d=\"M166.459 810.678 L182.778 810.678 L182.778 814.613 L160.834 814.613 L160.834 810.678 Q163.496 807.923 168.079 803.294 Q172.686 798.641 173.866 797.298 Q176.112 794.775 176.991 793.039 Q177.894 791.28 177.894 789.59 Q177.894 786.836 175.95 785.099 Q174.028 783.363 170.927 783.363 Q168.727 783.363 166.274 784.127 Q163.843 784.891 161.065 786.442 L161.065 781.72 Q163.89 780.586 166.343 780.007 Q168.797 779.428 170.834 779.428 Q176.204 779.428 179.399 782.113 Q182.593 784.798 182.593 789.289 Q182.593 791.419 181.783 793.34 Q180.996 795.238 178.889 797.831 Q178.311 798.502 175.209 801.72 Q172.107 804.914 166.459 810.678 Z\" fill=\"#000000\" fill-rule=\"nonzero\" fill-opacity=\"1\" /><path clip-path=\"url(#clip490)\" d=\"M192.639 780.053 L210.996 780.053 L210.996 783.988 L196.922 783.988 L196.922 792.46 Q197.94 792.113 198.959 791.951 Q199.977 791.766 200.996 791.766 Q206.783 791.766 210.162 794.937 Q213.542 798.109 213.542 803.525 Q213.542 809.104 210.07 812.206 Q206.598 815.284 200.278 815.284 Q198.102 815.284 195.834 814.914 Q193.588 814.544 191.181 813.803 L191.181 809.104 Q193.264 810.238 195.487 810.794 Q197.709 811.349 200.186 811.349 Q204.19 811.349 206.528 809.243 Q208.866 807.136 208.866 803.525 Q208.866 799.914 206.528 797.808 Q204.19 795.701 200.186 795.701 Q198.311 795.701 196.436 796.118 Q194.584 796.535 192.639 797.414 L192.639 780.053 Z\" fill=\"#000000\" fill-rule=\"nonzero\" fill-opacity=\"1\" /><path clip-path=\"url(#clip490)\" d=\"M126.205 647.39 Q122.593 647.39 120.765 650.955 Q118.959 654.496 118.959 661.626 Q118.959 668.732 120.765 672.297 Q122.593 675.839 126.205 675.839 Q129.839 675.839 131.644 672.297 Q133.473 668.732 133.473 661.626 Q133.473 654.496 131.644 650.955 Q129.839 647.39 126.205 647.39 M126.205 643.686 Q132.015 643.686 135.07 648.293 Q138.149 652.876 138.149 661.626 Q138.149 670.353 135.07 674.959 Q132.015 679.542 126.205 679.542 Q120.394 679.542 117.316 674.959 Q114.26 670.353 114.26 661.626 Q114.26 652.876 117.316 648.293 Q120.394 643.686 126.205 643.686 Z\" fill=\"#000000\" fill-rule=\"nonzero\" fill-opacity=\"1\" /><path clip-path=\"url(#clip490)\" d=\"M146.366 672.992 L151.251 672.992 L151.251 678.871 L146.366 678.871 L146.366 672.992 Z\" fill=\"#000000\" fill-rule=\"nonzero\" fill-opacity=\"1\" /><path clip-path=\"url(#clip490)\" d=\"M175.602 660.237 Q178.959 660.955 180.834 663.223 Q182.732 665.492 182.732 668.825 Q182.732 673.941 179.214 676.742 Q175.695 679.542 169.214 679.542 Q167.038 679.542 164.723 679.103 Q162.431 678.686 159.978 677.829 L159.978 673.316 Q161.922 674.45 164.237 675.029 Q166.552 675.607 169.075 675.607 Q173.473 675.607 175.764 673.871 Q178.079 672.135 178.079 668.825 Q178.079 665.769 175.926 664.056 Q173.797 662.32 169.977 662.32 L165.95 662.32 L165.95 658.478 L170.163 658.478 Q173.612 658.478 175.44 657.112 Q177.269 655.723 177.269 653.131 Q177.269 650.469 175.371 649.056 Q173.496 647.621 169.977 647.621 Q168.056 647.621 165.857 648.038 Q163.658 648.455 161.019 649.334 L161.019 645.168 Q163.681 644.427 165.996 644.057 Q168.334 643.686 170.394 643.686 Q175.718 643.686 178.82 646.117 Q181.922 648.524 181.922 652.644 Q181.922 655.515 180.278 657.506 Q178.635 659.473 175.602 660.237 Z\" fill=\"#000000\" fill-rule=\"nonzero\" fill-opacity=\"1\" /><path clip-path=\"url(#clip490)\" d=\"M201.598 647.39 Q197.987 647.39 196.158 650.955 Q194.352 654.496 194.352 661.626 Q194.352 668.732 196.158 672.297 Q197.987 675.839 201.598 675.839 Q205.232 675.839 207.037 672.297 Q208.866 668.732 208.866 661.626 Q208.866 654.496 207.037 650.955 Q205.232 647.39 201.598 647.39 M201.598 643.686 Q207.408 643.686 210.463 648.293 Q213.542 652.876 213.542 661.626 Q213.542 670.353 210.463 674.959 Q207.408 679.542 201.598 679.542 Q195.787 679.542 192.709 674.959 Q189.653 670.353 189.653 661.626 Q189.653 652.876 192.709 648.293 Q195.787 643.686 201.598 643.686 Z\" fill=\"#000000\" fill-rule=\"nonzero\" fill-opacity=\"1\" /><path clip-path=\"url(#clip490)\" d=\"M127.2 511.648 Q123.589 511.648 121.76 515.213 Q119.955 518.754 119.955 525.884 Q119.955 532.99 121.76 536.555 Q123.589 540.097 127.2 540.097 Q130.834 540.097 132.64 536.555 Q134.468 532.99 134.468 525.884 Q134.468 518.754 132.64 515.213 Q130.834 511.648 127.2 511.648 M127.2 507.944 Q133.01 507.944 136.066 512.551 Q139.144 517.134 139.144 525.884 Q139.144 534.611 136.066 539.217 Q133.01 543.8 127.2 543.8 Q121.39 543.8 118.311 539.217 Q115.256 534.611 115.256 525.884 Q115.256 517.134 118.311 512.551 Q121.39 507.944 127.2 507.944 Z\" fill=\"#000000\" fill-rule=\"nonzero\" fill-opacity=\"1\" /><path clip-path=\"url(#clip490)\" d=\"M147.362 537.25 L152.246 537.25 L152.246 543.129 L147.362 543.129 L147.362 537.25 Z\" fill=\"#000000\" fill-rule=\"nonzero\" fill-opacity=\"1\" /><path clip-path=\"url(#clip490)\" d=\"M176.598 524.495 Q179.954 525.213 181.829 527.481 Q183.727 529.75 183.727 533.083 Q183.727 538.199 180.209 541 Q176.69 543.8 170.209 543.8 Q168.033 543.8 165.718 543.361 Q163.427 542.944 160.973 542.087 L160.973 537.574 Q162.917 538.708 165.232 539.287 Q167.547 539.865 170.07 539.865 Q174.468 539.865 176.76 538.129 Q179.075 536.393 179.075 533.083 Q179.075 530.027 176.922 528.314 Q174.792 526.578 170.973 526.578 L166.945 526.578 L166.945 522.736 L171.158 522.736 Q174.607 522.736 176.436 521.37 Q178.264 519.981 178.264 517.389 Q178.264 514.727 176.366 513.314 Q174.491 511.879 170.973 511.879 Q169.052 511.879 166.852 512.296 Q164.653 512.713 162.015 513.592 L162.015 509.426 Q164.677 508.685 166.991 508.315 Q169.329 507.944 171.389 507.944 Q176.714 507.944 179.815 510.375 Q182.917 512.782 182.917 516.902 Q182.917 519.773 181.274 521.764 Q179.63 523.731 176.598 524.495 Z\" fill=\"#000000\" fill-rule=\"nonzero\" fill-opacity=\"1\" /><path clip-path=\"url(#clip490)\" d=\"M192.639 508.569 L210.996 508.569 L210.996 512.504 L196.922 512.504 L196.922 520.976 Q197.94 520.629 198.959 520.467 Q199.977 520.282 200.996 520.282 Q206.783 520.282 210.162 523.453 Q213.542 526.625 213.542 532.041 Q213.542 537.62 210.07 540.722 Q206.598 543.8 200.278 543.8 Q198.102 543.8 195.834 543.43 Q193.588 543.06 191.181 542.319 L191.181 537.62 Q193.264 538.754 195.487 539.31 Q197.709 539.865 200.186 539.865 Q204.19 539.865 206.528 537.759 Q208.866 535.652 208.866 532.041 Q208.866 528.43 206.528 526.324 Q204.19 524.217 200.186 524.217 Q198.311 524.217 196.436 524.634 Q194.584 525.051 192.639 525.93 L192.639 508.569 Z\" fill=\"#000000\" fill-rule=\"nonzero\" fill-opacity=\"1\" /><path clip-path=\"url(#clip490)\" d=\"M126.205 375.906 Q122.593 375.906 120.765 379.471 Q118.959 383.012 118.959 390.142 Q118.959 397.248 120.765 400.813 Q122.593 404.355 126.205 404.355 Q129.839 404.355 131.644 400.813 Q133.473 397.248 133.473 390.142 Q133.473 383.012 131.644 379.471 Q129.839 375.906 126.205 375.906 M126.205 372.202 Q132.015 372.202 135.07 376.809 Q138.149 381.392 138.149 390.142 Q138.149 398.869 135.07 403.475 Q132.015 408.058 126.205 408.058 Q120.394 408.058 117.316 403.475 Q114.26 398.869 114.26 390.142 Q114.26 381.392 117.316 376.809 Q120.394 372.202 126.205 372.202 Z\" fill=\"#000000\" fill-rule=\"nonzero\" fill-opacity=\"1\" /><path clip-path=\"url(#clip490)\" d=\"M146.366 401.508 L151.251 401.508 L151.251 407.387 L146.366 407.387 L146.366 401.508 Z\" fill=\"#000000\" fill-rule=\"nonzero\" fill-opacity=\"1\" /><path clip-path=\"url(#clip490)\" d=\"M174.283 376.901 L162.477 395.35 L174.283 395.35 L174.283 376.901 M173.056 372.827 L178.936 372.827 L178.936 395.35 L183.866 395.35 L183.866 399.239 L178.936 399.239 L178.936 407.387 L174.283 407.387 L174.283 399.239 L158.681 399.239 L158.681 394.725 L173.056 372.827 Z\" fill=\"#000000\" fill-rule=\"nonzero\" fill-opacity=\"1\" /><path clip-path=\"url(#clip490)\" d=\"M201.598 375.906 Q197.987 375.906 196.158 379.471 Q194.352 383.012 194.352 390.142 Q194.352 397.248 196.158 400.813 Q197.987 404.355 201.598 404.355 Q205.232 404.355 207.037 400.813 Q208.866 397.248 208.866 390.142 Q208.866 383.012 207.037 379.471 Q205.232 375.906 201.598 375.906 M201.598 372.202 Q207.408 372.202 210.463 376.809 Q213.542 381.392 213.542 390.142 Q213.542 398.869 210.463 403.475 Q207.408 408.058 201.598 408.058 Q195.787 408.058 192.709 403.475 Q189.653 398.869 189.653 390.142 Q189.653 381.392 192.709 376.809 Q195.787 372.202 201.598 372.202 Z\" fill=\"#000000\" fill-rule=\"nonzero\" fill-opacity=\"1\" /><path clip-path=\"url(#clip490)\" d=\"M127.2 240.164 Q123.589 240.164 121.76 243.729 Q119.955 247.27 119.955 254.4 Q119.955 261.506 121.76 265.071 Q123.589 268.613 127.2 268.613 Q130.834 268.613 132.64 265.071 Q134.468 261.506 134.468 254.4 Q134.468 247.27 132.64 243.729 Q130.834 240.164 127.2 240.164 M127.2 236.46 Q133.01 236.46 136.066 241.067 Q139.144 245.65 139.144 254.4 Q139.144 263.127 136.066 267.733 Q133.01 272.316 127.2 272.316 Q121.39 272.316 118.311 267.733 Q115.256 263.127 115.256 254.4 Q115.256 245.65 118.311 241.067 Q121.39 236.46 127.2 236.46 Z\" fill=\"#000000\" fill-rule=\"nonzero\" fill-opacity=\"1\" /><path clip-path=\"url(#clip490)\" d=\"M147.362 265.766 L152.246 265.766 L152.246 271.645 L147.362 271.645 L147.362 265.766 Z\" fill=\"#000000\" fill-rule=\"nonzero\" fill-opacity=\"1\" /><path clip-path=\"url(#clip490)\" d=\"M175.278 241.159 L163.473 259.608 L175.278 259.608 L175.278 241.159 M174.052 237.085 L179.931 237.085 L179.931 259.608 L184.862 259.608 L184.862 263.497 L179.931 263.497 L179.931 271.645 L175.278 271.645 L175.278 263.497 L159.677 263.497 L159.677 258.983 L174.052 237.085 Z\" fill=\"#000000\" fill-rule=\"nonzero\" fill-opacity=\"1\" /><path clip-path=\"url(#clip490)\" d=\"M192.639 237.085 L210.996 237.085 L210.996 241.02 L196.922 241.02 L196.922 249.492 Q197.94 249.145 198.959 248.983 Q199.977 248.798 200.996 248.798 Q206.783 248.798 210.162 251.969 Q213.542 255.141 213.542 260.557 Q213.542 266.136 210.07 269.238 Q206.598 272.316 200.278 272.316 Q198.102 272.316 195.834 271.946 Q193.588 271.576 191.181 270.835 L191.181 266.136 Q193.264 267.27 195.487 267.826 Q197.709 268.381 200.186 268.381 Q204.19 268.381 206.528 266.275 Q208.866 264.168 208.866 260.557 Q208.866 256.946 206.528 254.84 Q204.19 252.733 200.186 252.733 Q198.311 252.733 196.436 253.15 Q194.584 253.567 192.639 254.446 L192.639 237.085 Z\" fill=\"#000000\" fill-rule=\"nonzero\" fill-opacity=\"1\" /><path clip-path=\"url(#clip490)\" d=\"M126.205 104.422 Q122.593 104.422 120.765 107.987 Q118.959 111.528 118.959 118.658 Q118.959 125.764 120.765 129.329 Q122.593 132.871 126.205 132.871 Q129.839 132.871 131.644 129.329 Q133.473 125.764 133.473 118.658 Q133.473 111.528 131.644 107.987 Q129.839 104.422 126.205 104.422 M126.205 100.718 Q132.015 100.718 135.07 105.325 Q138.149 109.908 138.149 118.658 Q138.149 127.385 135.07 131.991 Q132.015 136.574 126.205 136.574 Q120.394 136.574 117.316 131.991 Q114.26 127.385 114.26 118.658 Q114.26 109.908 117.316 105.325 Q120.394 100.718 126.205 100.718 Z\" fill=\"#000000\" fill-rule=\"nonzero\" fill-opacity=\"1\" /><path clip-path=\"url(#clip490)\" d=\"M146.366 130.024 L151.251 130.024 L151.251 135.903 L146.366 135.903 L146.366 130.024 Z\" fill=\"#000000\" fill-rule=\"nonzero\" fill-opacity=\"1\" /><path clip-path=\"url(#clip490)\" d=\"M161.482 101.343 L179.839 101.343 L179.839 105.278 L165.765 105.278 L165.765 113.75 Q166.783 113.403 167.802 113.241 Q168.82 113.056 169.839 113.056 Q175.626 113.056 179.005 116.227 Q182.385 119.399 182.385 124.815 Q182.385 130.394 178.913 133.496 Q175.44 136.574 169.121 136.574 Q166.945 136.574 164.677 136.204 Q162.431 135.834 160.024 135.093 L160.024 130.394 Q162.107 131.528 164.329 132.084 Q166.552 132.639 169.028 132.639 Q173.033 132.639 175.371 130.533 Q177.709 128.426 177.709 124.815 Q177.709 121.204 175.371 119.098 Q173.033 116.991 169.028 116.991 Q167.153 116.991 165.278 117.408 Q163.427 117.824 161.482 118.704 L161.482 101.343 Z\" fill=\"#000000\" fill-rule=\"nonzero\" fill-opacity=\"1\" /><path clip-path=\"url(#clip490)\" d=\"M201.598 104.422 Q197.987 104.422 196.158 107.987 Q194.352 111.528 194.352 118.658 Q194.352 125.764 196.158 129.329 Q197.987 132.871 201.598 132.871 Q205.232 132.871 207.037 129.329 Q208.866 125.764 208.866 118.658 Q208.866 111.528 207.037 107.987 Q205.232 104.422 201.598 104.422 M201.598 100.718 Q207.408 100.718 210.463 105.325 Q213.542 109.908 213.542 118.658 Q213.542 127.385 210.463 131.991 Q207.408 136.574 201.598 136.574 Q195.787 136.574 192.709 131.991 Q189.653 127.385 189.653 118.658 Q189.653 109.908 192.709 105.325 Q195.787 100.718 201.598 100.718 Z\" fill=\"#000000\" fill-rule=\"nonzero\" fill-opacity=\"1\" /><path clip-path=\"url(#clip490)\" d=\"M77.5631 752.383 L28.3562 752.383 L28.3562 746.527 L50.5089 746.527 Q55.124 746.527 57.4793 744.331 Q59.8346 742.135 59.8346 737.838 Q59.8346 733.127 57.161 730.772 Q54.4874 728.385 49.1402 728.385 L28.3562 728.385 L28.3562 722.528 L55.7924 722.528 Q57.7021 722.528 58.6251 721.987 Q59.5163 721.414 59.5163 720.237 Q59.5163 719.95 59.3572 719.441 Q59.1662 718.932 58.7843 718.04 L63.4949 718.04 Q64.227 719.345 64.5771 720.523 Q64.9272 721.669 64.9272 722.783 Q64.9272 724.979 63.6859 726.284 Q62.4446 727.589 59.8983 728.066 Q62.4127 729.658 63.6859 731.981 Q64.9272 734.273 64.9272 737.392 Q64.9272 740.639 63.6859 742.93 Q62.4446 745.19 59.9619 746.527 L77.5631 746.527 L77.5631 752.383 Z\" fill=\"#000000\" fill-rule=\"nonzero\" fill-opacity=\"1\" /><polyline clip-path=\"url(#clip492)\" style=\"stroke:#009af9; stroke-linecap:round; stroke-linejoin:round; stroke-width:4; stroke-opacity:1; fill:none\" points=\"309.067,1384.24 342.136,1373.37 375.206,1361.67 408.275,1349.35 441.345,1336.56 474.414,1323.41 507.483,1309.99 540.553,1296.37 573.622,1282.59 606.692,1268.68 639.761,1254.66 672.83,1240.54 705.9,1226.34 738.969,1212.06 772.039,1197.69 805.108,1183.24 838.177,1168.69 871.247,1154.06 904.316,1139.33 937.386,1124.49 970.455,1109.54 1003.52,1094.47 1036.59,1079.28 1069.66,1063.96 1102.73,1048.49 1135.8,1032.87 1168.87,1017.1 1201.94,1001.15 1235.01,985.016 1268.08,968.691 1301.15,952.158 1334.22,935.403 1367.29,918.409 1400.36,901.161 1433.43,883.638 1466.5,865.82 1499.57,847.683 1532.63,829.2 1565.7,810.343 1598.77,791.079 1631.84,771.368 1664.91,751.168 1697.98,730.429 1731.05,709.093 1764.12,687.092 1797.19,664.345 1830.26,640.76 1863.33,616.222 1896.4,590.597 1929.47,563.724 1962.54,535.409 1995.61,505.415 2028.68,473.458 2061.75,439.195 2094.81,402.208 2127.88,361.993 2160.95,317.939 2194.02,269.312 2227.09,215.224 2260.16,154.608 2293.23,86.1857 \"/>\n",
       "<path clip-path=\"url(#clip490)\" d=\"M319.649 196.789 L582.401 196.789 L582.401 93.1086 L319.649 93.1086  Z\" fill=\"#ffffff\" fill-rule=\"evenodd\" fill-opacity=\"1\"/>\n",
       "<polyline clip-path=\"url(#clip490)\" style=\"stroke:#000000; stroke-linecap:round; stroke-linejoin:round; stroke-width:4; stroke-opacity:1; fill:none\" points=\"319.649,196.789 582.401,196.789 582.401,93.1086 319.649,93.1086 319.649,196.789 \"/>\n",
       "<polyline clip-path=\"url(#clip490)\" style=\"stroke:#009af9; stroke-linecap:round; stroke-linejoin:round; stroke-width:4; stroke-opacity:1; fill:none\" points=\"343.018,144.949 483.232,144.949 \"/>\n",
       "<path clip-path=\"url(#clip490)\" d=\"M520.444 164.636 Q518.638 169.266 516.926 170.678 Q515.213 172.09 512.342 172.09 L508.939 172.09 L508.939 168.525 L511.439 168.525 Q513.199 168.525 514.171 167.692 Q515.143 166.858 516.324 163.756 L517.088 161.812 L506.602 136.303 L511.115 136.303 L519.217 156.581 L527.319 136.303 L531.833 136.303 L520.444 164.636 Z\" fill=\"#000000\" fill-rule=\"nonzero\" fill-opacity=\"1\" /><path clip-path=\"url(#clip490)\" d=\"M539.124 158.293 L546.763 158.293 L546.763 131.928 L538.453 133.595 L538.453 129.335 L546.717 127.669 L551.393 127.669 L551.393 158.293 L559.032 158.293 L559.032 162.229 L539.124 162.229 L539.124 158.293 Z\" fill=\"#000000\" fill-rule=\"nonzero\" fill-opacity=\"1\" /></svg>\n"
      ],
      "text/html": [
       "<?xml version=\"1.0\" encoding=\"utf-8\"?>\n",
       "<svg xmlns=\"http://www.w3.org/2000/svg\" xmlns:xlink=\"http://www.w3.org/1999/xlink\" width=\"600\" height=\"400\" viewBox=\"0 0 2400 1600\">\n",
       "<defs>\n",
       "  <clipPath id=\"clip540\">\n",
       "    <rect x=\"0\" y=\"0\" width=\"2400\" height=\"1600\"/>\n",
       "  </clipPath>\n",
       "</defs>\n",
       "<path clip-path=\"url(#clip540)\" d=\"M0 1600 L2400 1600 L2400 8.88178e-14 L0 8.88178e-14  Z\" fill=\"#ffffff\" fill-rule=\"evenodd\" fill-opacity=\"1\"/>\n",
       "<defs>\n",
       "  <clipPath id=\"clip541\">\n",
       "    <rect x=\"480\" y=\"0\" width=\"1681\" height=\"1600\"/>\n",
       "  </clipPath>\n",
       "</defs>\n",
       "<path clip-path=\"url(#clip540)\" d=\"M249.542 1423.18 L2352.76 1423.18 L2352.76 47.2441 L249.542 47.2441  Z\" fill=\"#ffffff\" fill-rule=\"evenodd\" fill-opacity=\"1\"/>\n",
       "<defs>\n",
       "  <clipPath id=\"clip542\">\n",
       "    <rect x=\"249\" y=\"47\" width=\"2104\" height=\"1377\"/>\n",
       "  </clipPath>\n",
       "</defs>\n",
       "<polyline clip-path=\"url(#clip542)\" style=\"stroke:#000000; stroke-linecap:round; stroke-linejoin:round; stroke-width:2; stroke-opacity:0.1; fill:none\" points=\"309.067,1423.18 309.067,47.2441 \"/>\n",
       "<polyline clip-path=\"url(#clip542)\" style=\"stroke:#000000; stroke-linecap:round; stroke-linejoin:round; stroke-width:2; stroke-opacity:0.1; fill:none\" points=\"639.761,1423.18 639.761,47.2441 \"/>\n",
       "<polyline clip-path=\"url(#clip542)\" style=\"stroke:#000000; stroke-linecap:round; stroke-linejoin:round; stroke-width:2; stroke-opacity:0.1; fill:none\" points=\"970.455,1423.18 970.455,47.2441 \"/>\n",
       "<polyline clip-path=\"url(#clip542)\" style=\"stroke:#000000; stroke-linecap:round; stroke-linejoin:round; stroke-width:2; stroke-opacity:0.1; fill:none\" points=\"1301.15,1423.18 1301.15,47.2441 \"/>\n",
       "<polyline clip-path=\"url(#clip542)\" style=\"stroke:#000000; stroke-linecap:round; stroke-linejoin:round; stroke-width:2; stroke-opacity:0.1; fill:none\" points=\"1631.84,1423.18 1631.84,47.2441 \"/>\n",
       "<polyline clip-path=\"url(#clip542)\" style=\"stroke:#000000; stroke-linecap:round; stroke-linejoin:round; stroke-width:2; stroke-opacity:0.1; fill:none\" points=\"1962.54,1423.18 1962.54,47.2441 \"/>\n",
       "<polyline clip-path=\"url(#clip542)\" style=\"stroke:#000000; stroke-linecap:round; stroke-linejoin:round; stroke-width:2; stroke-opacity:0.1; fill:none\" points=\"2293.23,1423.18 2293.23,47.2441 \"/>\n",
       "<polyline clip-path=\"url(#clip542)\" style=\"stroke:#000000; stroke-linecap:round; stroke-linejoin:round; stroke-width:2; stroke-opacity:0.1; fill:none\" points=\"249.542,1340.3 2352.76,1340.3 \"/>\n",
       "<polyline clip-path=\"url(#clip542)\" style=\"stroke:#000000; stroke-linecap:round; stroke-linejoin:round; stroke-width:2; stroke-opacity:0.1; fill:none\" points=\"249.542,1204.56 2352.76,1204.56 \"/>\n",
       "<polyline clip-path=\"url(#clip542)\" style=\"stroke:#000000; stroke-linecap:round; stroke-linejoin:round; stroke-width:2; stroke-opacity:0.1; fill:none\" points=\"249.542,1068.82 2352.76,1068.82 \"/>\n",
       "<polyline clip-path=\"url(#clip542)\" style=\"stroke:#000000; stroke-linecap:round; stroke-linejoin:round; stroke-width:2; stroke-opacity:0.1; fill:none\" points=\"249.542,933.075 2352.76,933.075 \"/>\n",
       "<polyline clip-path=\"url(#clip542)\" style=\"stroke:#000000; stroke-linecap:round; stroke-linejoin:round; stroke-width:2; stroke-opacity:0.1; fill:none\" points=\"249.542,797.333 2352.76,797.333 \"/>\n",
       "<polyline clip-path=\"url(#clip542)\" style=\"stroke:#000000; stroke-linecap:round; stroke-linejoin:round; stroke-width:2; stroke-opacity:0.1; fill:none\" points=\"249.542,661.591 2352.76,661.591 \"/>\n",
       "<polyline clip-path=\"url(#clip542)\" style=\"stroke:#000000; stroke-linecap:round; stroke-linejoin:round; stroke-width:2; stroke-opacity:0.1; fill:none\" points=\"249.542,525.849 2352.76,525.849 \"/>\n",
       "<polyline clip-path=\"url(#clip542)\" style=\"stroke:#000000; stroke-linecap:round; stroke-linejoin:round; stroke-width:2; stroke-opacity:0.1; fill:none\" points=\"249.542,390.107 2352.76,390.107 \"/>\n",
       "<polyline clip-path=\"url(#clip542)\" style=\"stroke:#000000; stroke-linecap:round; stroke-linejoin:round; stroke-width:2; stroke-opacity:0.1; fill:none\" points=\"249.542,254.365 2352.76,254.365 \"/>\n",
       "<polyline clip-path=\"url(#clip542)\" style=\"stroke:#000000; stroke-linecap:round; stroke-linejoin:round; stroke-width:2; stroke-opacity:0.1; fill:none\" points=\"249.542,118.623 2352.76,118.623 \"/>\n",
       "<polyline clip-path=\"url(#clip540)\" style=\"stroke:#000000; stroke-linecap:round; stroke-linejoin:round; stroke-width:4; stroke-opacity:1; fill:none\" points=\"249.542,1423.18 2352.76,1423.18 \"/>\n",
       "<polyline clip-path=\"url(#clip540)\" style=\"stroke:#000000; stroke-linecap:round; stroke-linejoin:round; stroke-width:4; stroke-opacity:1; fill:none\" points=\"309.067,1423.18 309.067,1404.28 \"/>\n",
       "<polyline clip-path=\"url(#clip540)\" style=\"stroke:#000000; stroke-linecap:round; stroke-linejoin:round; stroke-width:4; stroke-opacity:1; fill:none\" points=\"639.761,1423.18 639.761,1404.28 \"/>\n",
       "<polyline clip-path=\"url(#clip540)\" style=\"stroke:#000000; stroke-linecap:round; stroke-linejoin:round; stroke-width:4; stroke-opacity:1; fill:none\" points=\"970.455,1423.18 970.455,1404.28 \"/>\n",
       "<polyline clip-path=\"url(#clip540)\" style=\"stroke:#000000; stroke-linecap:round; stroke-linejoin:round; stroke-width:4; stroke-opacity:1; fill:none\" points=\"1301.15,1423.18 1301.15,1404.28 \"/>\n",
       "<polyline clip-path=\"url(#clip540)\" style=\"stroke:#000000; stroke-linecap:round; stroke-linejoin:round; stroke-width:4; stroke-opacity:1; fill:none\" points=\"1631.84,1423.18 1631.84,1404.28 \"/>\n",
       "<polyline clip-path=\"url(#clip540)\" style=\"stroke:#000000; stroke-linecap:round; stroke-linejoin:round; stroke-width:4; stroke-opacity:1; fill:none\" points=\"1962.54,1423.18 1962.54,1404.28 \"/>\n",
       "<polyline clip-path=\"url(#clip540)\" style=\"stroke:#000000; stroke-linecap:round; stroke-linejoin:round; stroke-width:4; stroke-opacity:1; fill:none\" points=\"2293.23,1423.18 2293.23,1404.28 \"/>\n",
       "<path clip-path=\"url(#clip540)\" d=\"M255.919 1468.75 L285.595 1468.75 L285.595 1472.69 L255.919 1472.69 L255.919 1468.75 Z\" fill=\"#000000\" fill-rule=\"nonzero\" fill-opacity=\"1\" /><path clip-path=\"url(#clip540)\" d=\"M305.687 1454.1 Q302.076 1454.1 300.248 1457.66 Q298.442 1461.2 298.442 1468.33 Q298.442 1475.44 300.248 1479.01 Q302.076 1482.55 305.687 1482.55 Q309.322 1482.55 311.127 1479.01 Q312.956 1475.44 312.956 1468.33 Q312.956 1461.2 311.127 1457.66 Q309.322 1454.1 305.687 1454.1 M305.687 1450.39 Q311.497 1450.39 314.553 1455 Q317.632 1459.58 317.632 1468.33 Q317.632 1477.06 314.553 1481.67 Q311.497 1486.25 305.687 1486.25 Q299.877 1486.25 296.799 1481.67 Q293.743 1477.06 293.743 1468.33 Q293.743 1459.58 296.799 1455 Q299.877 1450.39 305.687 1450.39 Z\" fill=\"#000000\" fill-rule=\"nonzero\" fill-opacity=\"1\" /><path clip-path=\"url(#clip540)\" d=\"M325.849 1479.7 L330.734 1479.7 L330.734 1485.58 L325.849 1485.58 L325.849 1479.7 Z\" fill=\"#000000\" fill-rule=\"nonzero\" fill-opacity=\"1\" /><path clip-path=\"url(#clip540)\" d=\"M355.085 1466.95 Q358.442 1467.66 360.317 1469.93 Q362.215 1472.2 362.215 1475.53 Q362.215 1480.65 358.696 1483.45 Q355.178 1486.25 348.696 1486.25 Q346.52 1486.25 344.206 1485.81 Q341.914 1485.39 339.46 1484.54 L339.46 1480.02 Q341.405 1481.16 343.72 1481.74 Q346.034 1482.32 348.557 1482.32 Q352.956 1482.32 355.247 1480.58 Q357.562 1478.84 357.562 1475.53 Q357.562 1472.48 355.409 1470.77 Q353.28 1469.03 349.46 1469.03 L345.432 1469.03 L345.432 1465.19 L349.645 1465.19 Q353.094 1465.19 354.923 1463.82 Q356.752 1462.43 356.752 1459.84 Q356.752 1457.18 354.854 1455.77 Q352.979 1454.33 349.46 1454.33 Q347.539 1454.33 345.34 1454.75 Q343.141 1455.16 340.502 1456.04 L340.502 1451.88 Q343.164 1451.14 345.479 1450.77 Q347.817 1450.39 349.877 1450.39 Q355.201 1450.39 358.303 1452.83 Q361.405 1455.23 361.405 1459.35 Q361.405 1462.22 359.761 1464.21 Q358.118 1466.18 355.085 1466.95 Z\" fill=\"#000000\" fill-rule=\"nonzero\" fill-opacity=\"1\" /><path clip-path=\"url(#clip540)\" d=\"M587.088 1468.75 L616.763 1468.75 L616.763 1472.69 L587.088 1472.69 L587.088 1468.75 Z\" fill=\"#000000\" fill-rule=\"nonzero\" fill-opacity=\"1\" /><path clip-path=\"url(#clip540)\" d=\"M636.856 1454.1 Q633.245 1454.1 631.416 1457.66 Q629.611 1461.2 629.611 1468.33 Q629.611 1475.44 631.416 1479.01 Q633.245 1482.55 636.856 1482.55 Q640.49 1482.55 642.296 1479.01 Q644.124 1475.44 644.124 1468.33 Q644.124 1461.2 642.296 1457.66 Q640.49 1454.1 636.856 1454.1 M636.856 1450.39 Q642.666 1450.39 645.722 1455 Q648.8 1459.58 648.8 1468.33 Q648.8 1477.06 645.722 1481.67 Q642.666 1486.25 636.856 1486.25 Q631.046 1486.25 627.967 1481.67 Q624.912 1477.06 624.912 1468.33 Q624.912 1459.58 627.967 1455 Q631.046 1450.39 636.856 1450.39 Z\" fill=\"#000000\" fill-rule=\"nonzero\" fill-opacity=\"1\" /><path clip-path=\"url(#clip540)\" d=\"M657.018 1479.7 L661.902 1479.7 L661.902 1485.58 L657.018 1485.58 L657.018 1479.7 Z\" fill=\"#000000\" fill-rule=\"nonzero\" fill-opacity=\"1\" /><path clip-path=\"url(#clip540)\" d=\"M676.115 1481.64 L692.434 1481.64 L692.434 1485.58 L670.49 1485.58 L670.49 1481.64 Q673.152 1478.89 677.735 1474.26 Q682.342 1469.61 683.522 1468.27 Q685.768 1465.74 686.647 1464.01 Q687.55 1462.25 687.55 1460.56 Q687.55 1457.8 685.606 1456.07 Q683.684 1454.33 680.582 1454.33 Q678.383 1454.33 675.93 1455.09 Q673.499 1455.86 670.721 1457.41 L670.721 1452.69 Q673.546 1451.55 675.999 1450.97 Q678.453 1450.39 680.49 1450.39 Q685.86 1450.39 689.055 1453.08 Q692.249 1455.77 692.249 1460.26 Q692.249 1462.39 691.439 1464.31 Q690.652 1466.2 688.545 1468.8 Q687.967 1469.47 684.865 1472.69 Q681.763 1475.88 676.115 1481.64 Z\" fill=\"#000000\" fill-rule=\"nonzero\" fill-opacity=\"1\" /><path clip-path=\"url(#clip540)\" d=\"M917.596 1468.75 L947.272 1468.75 L947.272 1472.69 L917.596 1472.69 L917.596 1468.75 Z\" fill=\"#000000\" fill-rule=\"nonzero\" fill-opacity=\"1\" /><path clip-path=\"url(#clip540)\" d=\"M967.365 1454.1 Q963.754 1454.1 961.925 1457.66 Q960.119 1461.2 960.119 1468.33 Q960.119 1475.44 961.925 1479.01 Q963.754 1482.55 967.365 1482.55 Q970.999 1482.55 972.804 1479.01 Q974.633 1475.44 974.633 1468.33 Q974.633 1461.2 972.804 1457.66 Q970.999 1454.1 967.365 1454.1 M967.365 1450.39 Q973.175 1450.39 976.23 1455 Q979.309 1459.58 979.309 1468.33 Q979.309 1477.06 976.23 1481.67 Q973.175 1486.25 967.365 1486.25 Q961.555 1486.25 958.476 1481.67 Q955.42 1477.06 955.42 1468.33 Q955.42 1459.58 958.476 1455 Q961.555 1450.39 967.365 1450.39 Z\" fill=\"#000000\" fill-rule=\"nonzero\" fill-opacity=\"1\" /><path clip-path=\"url(#clip540)\" d=\"M987.527 1479.7 L992.411 1479.7 L992.411 1485.58 L987.527 1485.58 L987.527 1479.7 Z\" fill=\"#000000\" fill-rule=\"nonzero\" fill-opacity=\"1\" /><path clip-path=\"url(#clip540)\" d=\"M1003.41 1481.64 L1011.05 1481.64 L1011.05 1455.28 L1002.73 1456.95 L1002.73 1452.69 L1011 1451.02 L1015.67 1451.02 L1015.67 1481.64 L1023.31 1481.64 L1023.31 1485.58 L1003.41 1485.58 L1003.41 1481.64 Z\" fill=\"#000000\" fill-rule=\"nonzero\" fill-opacity=\"1\" /><path clip-path=\"url(#clip540)\" d=\"M1278.53 1454.1 Q1274.92 1454.1 1273.09 1457.66 Q1271.29 1461.2 1271.29 1468.33 Q1271.29 1475.44 1273.09 1479.01 Q1274.92 1482.55 1278.53 1482.55 Q1282.17 1482.55 1283.97 1479.01 Q1285.8 1475.44 1285.8 1468.33 Q1285.8 1461.2 1283.97 1457.66 Q1282.17 1454.1 1278.53 1454.1 M1278.53 1450.39 Q1284.34 1450.39 1287.4 1455 Q1290.48 1459.58 1290.48 1468.33 Q1290.48 1477.06 1287.4 1481.67 Q1284.34 1486.25 1278.53 1486.25 Q1272.72 1486.25 1269.64 1481.67 Q1266.59 1477.06 1266.59 1468.33 Q1266.59 1459.58 1269.64 1455 Q1272.72 1450.39 1278.53 1450.39 Z\" fill=\"#000000\" fill-rule=\"nonzero\" fill-opacity=\"1\" /><path clip-path=\"url(#clip540)\" d=\"M1298.7 1479.7 L1303.58 1479.7 L1303.58 1485.58 L1298.7 1485.58 L1298.7 1479.7 Z\" fill=\"#000000\" fill-rule=\"nonzero\" fill-opacity=\"1\" /><path clip-path=\"url(#clip540)\" d=\"M1323.76 1454.1 Q1320.15 1454.1 1318.32 1457.66 Q1316.52 1461.2 1316.52 1468.33 Q1316.52 1475.44 1318.32 1479.01 Q1320.15 1482.55 1323.76 1482.55 Q1327.4 1482.55 1329.2 1479.01 Q1331.03 1475.44 1331.03 1468.33 Q1331.03 1461.2 1329.2 1457.66 Q1327.4 1454.1 1323.76 1454.1 M1323.76 1450.39 Q1329.57 1450.39 1332.63 1455 Q1335.71 1459.58 1335.71 1468.33 Q1335.71 1477.06 1332.63 1481.67 Q1329.57 1486.25 1323.76 1486.25 Q1317.95 1486.25 1314.88 1481.67 Q1311.82 1477.06 1311.82 1468.33 Q1311.82 1459.58 1314.88 1455 Q1317.95 1450.39 1323.76 1450.39 Z\" fill=\"#000000\" fill-rule=\"nonzero\" fill-opacity=\"1\" /><path clip-path=\"url(#clip540)\" d=\"M1609.84 1454.1 Q1606.23 1454.1 1604.4 1457.66 Q1602.6 1461.2 1602.6 1468.33 Q1602.6 1475.44 1604.4 1479.01 Q1606.23 1482.55 1609.84 1482.55 Q1613.48 1482.55 1615.28 1479.01 Q1617.11 1475.44 1617.11 1468.33 Q1617.11 1461.2 1615.28 1457.66 Q1613.48 1454.1 1609.84 1454.1 M1609.84 1450.39 Q1615.65 1450.39 1618.71 1455 Q1621.79 1459.58 1621.79 1468.33 Q1621.79 1477.06 1618.71 1481.67 Q1615.65 1486.25 1609.84 1486.25 Q1604.03 1486.25 1600.95 1481.67 Q1597.9 1477.06 1597.9 1468.33 Q1597.9 1459.58 1600.95 1455 Q1604.03 1450.39 1609.84 1450.39 Z\" fill=\"#000000\" fill-rule=\"nonzero\" fill-opacity=\"1\" /><path clip-path=\"url(#clip540)\" d=\"M1630 1479.7 L1634.89 1479.7 L1634.89 1485.58 L1630 1485.58 L1630 1479.7 Z\" fill=\"#000000\" fill-rule=\"nonzero\" fill-opacity=\"1\" /><path clip-path=\"url(#clip540)\" d=\"M1645.88 1481.64 L1653.52 1481.64 L1653.52 1455.28 L1645.21 1456.95 L1645.21 1452.69 L1653.47 1451.02 L1658.15 1451.02 L1658.15 1481.64 L1665.79 1481.64 L1665.79 1485.58 L1645.88 1485.58 L1645.88 1481.64 Z\" fill=\"#000000\" fill-rule=\"nonzero\" fill-opacity=\"1\" /><path clip-path=\"url(#clip540)\" d=\"M1940.72 1454.1 Q1937.11 1454.1 1935.28 1457.66 Q1933.47 1461.2 1933.47 1468.33 Q1933.47 1475.44 1935.28 1479.01 Q1937.11 1482.55 1940.72 1482.55 Q1944.35 1482.55 1946.16 1479.01 Q1947.99 1475.44 1947.99 1468.33 Q1947.99 1461.2 1946.16 1457.66 Q1944.35 1454.1 1940.72 1454.1 M1940.72 1450.39 Q1946.53 1450.39 1949.59 1455 Q1952.66 1459.58 1952.66 1468.33 Q1952.66 1477.06 1949.59 1481.67 Q1946.53 1486.25 1940.72 1486.25 Q1934.91 1486.25 1931.83 1481.67 Q1928.78 1477.06 1928.78 1468.33 Q1928.78 1459.58 1931.83 1455 Q1934.91 1450.39 1940.72 1450.39 Z\" fill=\"#000000\" fill-rule=\"nonzero\" fill-opacity=\"1\" /><path clip-path=\"url(#clip540)\" d=\"M1960.88 1479.7 L1965.77 1479.7 L1965.77 1485.58 L1960.88 1485.58 L1960.88 1479.7 Z\" fill=\"#000000\" fill-rule=\"nonzero\" fill-opacity=\"1\" /><path clip-path=\"url(#clip540)\" d=\"M1979.98 1481.64 L1996.3 1481.64 L1996.3 1485.58 L1974.35 1485.58 L1974.35 1481.64 Q1977.02 1478.89 1981.6 1474.26 Q1986.21 1469.61 1987.39 1468.27 Q1989.63 1465.74 1990.51 1464.01 Q1991.41 1462.25 1991.41 1460.56 Q1991.41 1457.8 1989.47 1456.07 Q1987.55 1454.33 1984.45 1454.33 Q1982.25 1454.33 1979.79 1455.09 Q1977.36 1455.86 1974.59 1457.41 L1974.59 1452.69 Q1977.41 1451.55 1979.86 1450.97 Q1982.32 1450.39 1984.35 1450.39 Q1989.72 1450.39 1992.92 1453.08 Q1996.11 1455.77 1996.11 1460.26 Q1996.11 1462.39 1995.3 1464.31 Q1994.52 1466.2 1992.41 1468.8 Q1991.83 1469.47 1988.73 1472.69 Q1985.63 1475.88 1979.98 1481.64 Z\" fill=\"#000000\" fill-rule=\"nonzero\" fill-opacity=\"1\" /><path clip-path=\"url(#clip540)\" d=\"M2270.94 1454.1 Q2267.33 1454.1 2265.5 1457.66 Q2263.69 1461.2 2263.69 1468.33 Q2263.69 1475.44 2265.5 1479.01 Q2267.33 1482.55 2270.94 1482.55 Q2274.57 1482.55 2276.38 1479.01 Q2278.21 1475.44 2278.21 1468.33 Q2278.21 1461.2 2276.38 1457.66 Q2274.57 1454.1 2270.94 1454.1 M2270.94 1450.39 Q2276.75 1450.39 2279.81 1455 Q2282.88 1459.58 2282.88 1468.33 Q2282.88 1477.06 2279.81 1481.67 Q2276.75 1486.25 2270.94 1486.25 Q2265.13 1486.25 2262.05 1481.67 Q2259 1477.06 2259 1468.33 Q2259 1459.58 2262.05 1455 Q2265.13 1450.39 2270.94 1450.39 Z\" fill=\"#000000\" fill-rule=\"nonzero\" fill-opacity=\"1\" /><path clip-path=\"url(#clip540)\" d=\"M2291.1 1479.7 L2295.99 1479.7 L2295.99 1485.58 L2291.1 1485.58 L2291.1 1479.7 Z\" fill=\"#000000\" fill-rule=\"nonzero\" fill-opacity=\"1\" /><path clip-path=\"url(#clip540)\" d=\"M2320.34 1466.95 Q2323.69 1467.66 2325.57 1469.93 Q2327.47 1472.2 2327.47 1475.53 Q2327.47 1480.65 2323.95 1483.45 Q2320.43 1486.25 2313.95 1486.25 Q2311.77 1486.25 2309.46 1485.81 Q2307.17 1485.39 2304.71 1484.54 L2304.71 1480.02 Q2306.66 1481.16 2308.97 1481.74 Q2311.29 1482.32 2313.81 1482.32 Q2318.21 1482.32 2320.5 1480.58 Q2322.81 1478.84 2322.81 1475.53 Q2322.81 1472.48 2320.66 1470.77 Q2318.53 1469.03 2314.71 1469.03 L2310.68 1469.03 L2310.68 1465.19 L2314.9 1465.19 Q2318.35 1465.19 2320.18 1463.82 Q2322 1462.43 2322 1459.84 Q2322 1457.18 2320.11 1455.77 Q2318.23 1454.33 2314.71 1454.33 Q2312.79 1454.33 2310.59 1454.75 Q2308.39 1455.16 2305.75 1456.04 L2305.75 1451.88 Q2308.42 1451.14 2310.73 1450.77 Q2313.07 1450.39 2315.13 1450.39 Q2320.45 1450.39 2323.55 1452.83 Q2326.66 1455.23 2326.66 1459.35 Q2326.66 1462.22 2325.01 1464.21 Q2323.37 1466.18 2320.34 1466.95 Z\" fill=\"#000000\" fill-rule=\"nonzero\" fill-opacity=\"1\" /><path clip-path=\"url(#clip540)\" d=\"M1261.78 1526.86 L1248.73 1562.7 L1274.86 1562.7 L1261.78 1526.86 M1240.01 1568.04 L1258.15 1520.52 L1265.44 1520.52 L1283.55 1568.04 L1240.01 1568.04 Z\" fill=\"#000000\" fill-rule=\"nonzero\" fill-opacity=\"1\" /><path clip-path=\"url(#clip540)\" d=\"M1290.49 1520.52 L1296.92 1520.52 L1296.92 1540.61 L1318.24 1520.52 L1326.52 1520.52 L1302.93 1542.68 L1328.2 1568.04 L1319.74 1568.04 L1296.92 1545.16 L1296.92 1568.04 L1290.49 1568.04 L1290.49 1520.52 Z\" fill=\"#000000\" fill-rule=\"nonzero\" fill-opacity=\"1\" /><path clip-path=\"url(#clip540)\" d=\"M1334.92 1562.63 L1345.42 1562.63 L1345.42 1526.38 L1334 1528.67 L1334 1522.82 L1345.36 1520.52 L1351.79 1520.52 L1351.79 1562.63 L1362.29 1562.63 L1362.29 1568.04 L1334.92 1568.04 L1334.92 1562.63 Z\" fill=\"#000000\" fill-rule=\"nonzero\" fill-opacity=\"1\" /><polyline clip-path=\"url(#clip540)\" style=\"stroke:#000000; stroke-linecap:round; stroke-linejoin:round; stroke-width:4; stroke-opacity:1; fill:none\" points=\"249.542,1423.18 249.542,47.2441 \"/>\n",
       "<polyline clip-path=\"url(#clip540)\" style=\"stroke:#000000; stroke-linecap:round; stroke-linejoin:round; stroke-width:4; stroke-opacity:1; fill:none\" points=\"249.542,1340.3 268.44,1340.3 \"/>\n",
       "<polyline clip-path=\"url(#clip540)\" style=\"stroke:#000000; stroke-linecap:round; stroke-linejoin:round; stroke-width:4; stroke-opacity:1; fill:none\" points=\"249.542,1204.56 268.44,1204.56 \"/>\n",
       "<polyline clip-path=\"url(#clip540)\" style=\"stroke:#000000; stroke-linecap:round; stroke-linejoin:round; stroke-width:4; stroke-opacity:1; fill:none\" points=\"249.542,1068.82 268.44,1068.82 \"/>\n",
       "<polyline clip-path=\"url(#clip540)\" style=\"stroke:#000000; stroke-linecap:round; stroke-linejoin:round; stroke-width:4; stroke-opacity:1; fill:none\" points=\"249.542,933.075 268.44,933.075 \"/>\n",
       "<polyline clip-path=\"url(#clip540)\" style=\"stroke:#000000; stroke-linecap:round; stroke-linejoin:round; stroke-width:4; stroke-opacity:1; fill:none\" points=\"249.542,797.333 268.44,797.333 \"/>\n",
       "<polyline clip-path=\"url(#clip540)\" style=\"stroke:#000000; stroke-linecap:round; stroke-linejoin:round; stroke-width:4; stroke-opacity:1; fill:none\" points=\"249.542,661.591 268.44,661.591 \"/>\n",
       "<polyline clip-path=\"url(#clip540)\" style=\"stroke:#000000; stroke-linecap:round; stroke-linejoin:round; stroke-width:4; stroke-opacity:1; fill:none\" points=\"249.542,525.849 268.44,525.849 \"/>\n",
       "<polyline clip-path=\"url(#clip540)\" style=\"stroke:#000000; stroke-linecap:round; stroke-linejoin:round; stroke-width:4; stroke-opacity:1; fill:none\" points=\"249.542,390.107 268.44,390.107 \"/>\n",
       "<polyline clip-path=\"url(#clip540)\" style=\"stroke:#000000; stroke-linecap:round; stroke-linejoin:round; stroke-width:4; stroke-opacity:1; fill:none\" points=\"249.542,254.365 268.44,254.365 \"/>\n",
       "<polyline clip-path=\"url(#clip540)\" style=\"stroke:#000000; stroke-linecap:round; stroke-linejoin:round; stroke-width:4; stroke-opacity:1; fill:none\" points=\"249.542,118.623 268.44,118.623 \"/>\n",
       "<path clip-path=\"url(#clip540)\" d=\"M127.2 1326.1 Q123.589 1326.1 121.76 1329.66 Q119.955 1333.21 119.955 1340.34 Q119.955 1347.44 121.76 1351.01 Q123.589 1354.55 127.2 1354.55 Q130.834 1354.55 132.64 1351.01 Q134.468 1347.44 134.468 1340.34 Q134.468 1333.21 132.64 1329.66 Q130.834 1326.1 127.2 1326.1 M127.2 1322.4 Q133.01 1322.4 136.066 1327 Q139.144 1331.59 139.144 1340.34 Q139.144 1349.06 136.066 1353.67 Q133.01 1358.25 127.2 1358.25 Q121.39 1358.25 118.311 1353.67 Q115.256 1349.06 115.256 1340.34 Q115.256 1331.59 118.311 1327 Q121.39 1322.4 127.2 1322.4 Z\" fill=\"#000000\" fill-rule=\"nonzero\" fill-opacity=\"1\" /><path clip-path=\"url(#clip540)\" d=\"M147.362 1351.7 L152.246 1351.7 L152.246 1357.58 L147.362 1357.58 L147.362 1351.7 Z\" fill=\"#000000\" fill-rule=\"nonzero\" fill-opacity=\"1\" /><path clip-path=\"url(#clip540)\" d=\"M172.431 1326.1 Q168.82 1326.1 166.991 1329.66 Q165.186 1333.21 165.186 1340.34 Q165.186 1347.44 166.991 1351.01 Q168.82 1354.55 172.431 1354.55 Q176.065 1354.55 177.871 1351.01 Q179.7 1347.44 179.7 1340.34 Q179.7 1333.21 177.871 1329.66 Q176.065 1326.1 172.431 1326.1 M172.431 1322.4 Q178.241 1322.4 181.297 1327 Q184.376 1331.59 184.376 1340.34 Q184.376 1349.06 181.297 1353.67 Q178.241 1358.25 172.431 1358.25 Q166.621 1358.25 163.542 1353.67 Q160.487 1349.06 160.487 1340.34 Q160.487 1331.59 163.542 1327 Q166.621 1322.4 172.431 1322.4 Z\" fill=\"#000000\" fill-rule=\"nonzero\" fill-opacity=\"1\" /><path clip-path=\"url(#clip540)\" d=\"M192.639 1323.02 L210.996 1323.02 L210.996 1326.96 L196.922 1326.96 L196.922 1335.43 Q197.94 1335.08 198.959 1334.92 Q199.977 1334.73 200.996 1334.73 Q206.783 1334.73 210.162 1337.91 Q213.542 1341.08 213.542 1346.49 Q213.542 1352.07 210.07 1355.17 Q206.598 1358.25 200.278 1358.25 Q198.102 1358.25 195.834 1357.88 Q193.588 1357.51 191.181 1356.77 L191.181 1352.07 Q193.264 1353.21 195.487 1353.76 Q197.709 1354.32 200.186 1354.32 Q204.19 1354.32 206.528 1352.21 Q208.866 1350.1 208.866 1346.49 Q208.866 1342.88 206.528 1340.78 Q204.19 1338.67 200.186 1338.67 Q198.311 1338.67 196.436 1339.09 Q194.584 1339.5 192.639 1340.38 L192.639 1323.02 Z\" fill=\"#000000\" fill-rule=\"nonzero\" fill-opacity=\"1\" /><path clip-path=\"url(#clip540)\" d=\"M126.205 1190.36 Q122.593 1190.36 120.765 1193.92 Q118.959 1197.46 118.959 1204.59 Q118.959 1211.7 120.765 1215.27 Q122.593 1218.81 126.205 1218.81 Q129.839 1218.81 131.644 1215.27 Q133.473 1211.7 133.473 1204.59 Q133.473 1197.46 131.644 1193.92 Q129.839 1190.36 126.205 1190.36 M126.205 1186.65 Q132.015 1186.65 135.07 1191.26 Q138.149 1195.84 138.149 1204.59 Q138.149 1213.32 135.07 1217.93 Q132.015 1222.51 126.205 1222.51 Q120.394 1222.51 117.316 1217.93 Q114.26 1213.32 114.26 1204.59 Q114.26 1195.84 117.316 1191.26 Q120.394 1186.65 126.205 1186.65 Z\" fill=\"#000000\" fill-rule=\"nonzero\" fill-opacity=\"1\" /><path clip-path=\"url(#clip540)\" d=\"M146.366 1215.96 L151.251 1215.96 L151.251 1221.84 L146.366 1221.84 L146.366 1215.96 Z\" fill=\"#000000\" fill-rule=\"nonzero\" fill-opacity=\"1\" /><path clip-path=\"url(#clip540)\" d=\"M162.246 1217.9 L169.885 1217.9 L169.885 1191.54 L161.575 1193.21 L161.575 1188.95 L169.839 1187.28 L174.514 1187.28 L174.514 1217.9 L182.153 1217.9 L182.153 1221.84 L162.246 1221.84 L162.246 1217.9 Z\" fill=\"#000000\" fill-rule=\"nonzero\" fill-opacity=\"1\" /><path clip-path=\"url(#clip540)\" d=\"M201.598 1190.36 Q197.987 1190.36 196.158 1193.92 Q194.352 1197.46 194.352 1204.59 Q194.352 1211.7 196.158 1215.27 Q197.987 1218.81 201.598 1218.81 Q205.232 1218.81 207.037 1215.27 Q208.866 1211.7 208.866 1204.59 Q208.866 1197.46 207.037 1193.92 Q205.232 1190.36 201.598 1190.36 M201.598 1186.65 Q207.408 1186.65 210.463 1191.26 Q213.542 1195.84 213.542 1204.59 Q213.542 1213.32 210.463 1217.93 Q207.408 1222.51 201.598 1222.51 Q195.787 1222.51 192.709 1217.93 Q189.653 1213.32 189.653 1204.59 Q189.653 1195.84 192.709 1191.26 Q195.787 1186.65 201.598 1186.65 Z\" fill=\"#000000\" fill-rule=\"nonzero\" fill-opacity=\"1\" /><path clip-path=\"url(#clip540)\" d=\"M127.2 1054.62 Q123.589 1054.62 121.76 1058.18 Q119.955 1061.72 119.955 1068.85 Q119.955 1075.96 121.76 1079.52 Q123.589 1083.06 127.2 1083.06 Q130.834 1083.06 132.64 1079.52 Q134.468 1075.96 134.468 1068.85 Q134.468 1061.72 132.64 1058.18 Q130.834 1054.62 127.2 1054.62 M127.2 1050.91 Q133.01 1050.91 136.066 1055.52 Q139.144 1060.1 139.144 1068.85 Q139.144 1077.58 136.066 1082.19 Q133.01 1086.77 127.2 1086.77 Q121.39 1086.77 118.311 1082.19 Q115.256 1077.58 115.256 1068.85 Q115.256 1060.1 118.311 1055.52 Q121.39 1050.91 127.2 1050.91 Z\" fill=\"#000000\" fill-rule=\"nonzero\" fill-opacity=\"1\" /><path clip-path=\"url(#clip540)\" d=\"M147.362 1080.22 L152.246 1080.22 L152.246 1086.1 L147.362 1086.1 L147.362 1080.22 Z\" fill=\"#000000\" fill-rule=\"nonzero\" fill-opacity=\"1\" /><path clip-path=\"url(#clip540)\" d=\"M163.241 1082.16 L170.88 1082.16 L170.88 1055.8 L162.57 1057.46 L162.57 1053.2 L170.834 1051.54 L175.51 1051.54 L175.51 1082.16 L183.149 1082.16 L183.149 1086.1 L163.241 1086.1 L163.241 1082.16 Z\" fill=\"#000000\" fill-rule=\"nonzero\" fill-opacity=\"1\" /><path clip-path=\"url(#clip540)\" d=\"M192.639 1051.54 L210.996 1051.54 L210.996 1055.47 L196.922 1055.47 L196.922 1063.94 Q197.94 1063.6 198.959 1063.44 Q199.977 1063.25 200.996 1063.25 Q206.783 1063.25 210.162 1066.42 Q213.542 1069.59 213.542 1075.01 Q213.542 1080.59 210.07 1083.69 Q206.598 1086.77 200.278 1086.77 Q198.102 1086.77 195.834 1086.4 Q193.588 1086.03 191.181 1085.29 L191.181 1080.59 Q193.264 1081.72 195.487 1082.28 Q197.709 1082.83 200.186 1082.83 Q204.19 1082.83 206.528 1080.73 Q208.866 1078.62 208.866 1075.01 Q208.866 1071.4 206.528 1069.29 Q204.19 1067.19 200.186 1067.19 Q198.311 1067.19 196.436 1067.6 Q194.584 1068.02 192.639 1068.9 L192.639 1051.54 Z\" fill=\"#000000\" fill-rule=\"nonzero\" fill-opacity=\"1\" /><path clip-path=\"url(#clip540)\" d=\"M126.205 918.874 Q122.593 918.874 120.765 922.439 Q118.959 925.98 118.959 933.11 Q118.959 940.216 120.765 943.781 Q122.593 947.323 126.205 947.323 Q129.839 947.323 131.644 943.781 Q133.473 940.216 133.473 933.11 Q133.473 925.98 131.644 922.439 Q129.839 918.874 126.205 918.874 M126.205 915.17 Q132.015 915.17 135.07 919.777 Q138.149 924.36 138.149 933.11 Q138.149 941.837 135.07 946.443 Q132.015 951.026 126.205 951.026 Q120.394 951.026 117.316 946.443 Q114.26 941.837 114.26 933.11 Q114.26 924.36 117.316 919.777 Q120.394 915.17 126.205 915.17 Z\" fill=\"#000000\" fill-rule=\"nonzero\" fill-opacity=\"1\" /><path clip-path=\"url(#clip540)\" d=\"M146.366 944.476 L151.251 944.476 L151.251 950.355 L146.366 950.355 L146.366 944.476 Z\" fill=\"#000000\" fill-rule=\"nonzero\" fill-opacity=\"1\" /><path clip-path=\"url(#clip540)\" d=\"M165.464 946.42 L181.783 946.42 L181.783 950.355 L159.839 950.355 L159.839 946.42 Q162.501 943.665 167.084 939.036 Q171.69 934.383 172.871 933.04 Q175.116 930.517 175.996 928.781 Q176.899 927.022 176.899 925.332 Q176.899 922.578 174.954 920.841 Q173.033 919.105 169.931 919.105 Q167.732 919.105 165.278 919.869 Q162.848 920.633 160.07 922.184 L160.07 917.462 Q162.894 916.328 165.348 915.749 Q167.802 915.17 169.839 915.17 Q175.209 915.17 178.403 917.855 Q181.598 920.541 181.598 925.031 Q181.598 927.161 180.788 929.082 Q180.001 930.98 177.894 933.573 Q177.315 934.244 174.214 937.462 Q171.112 940.656 165.464 946.42 Z\" fill=\"#000000\" fill-rule=\"nonzero\" fill-opacity=\"1\" /><path clip-path=\"url(#clip540)\" d=\"M201.598 918.874 Q197.987 918.874 196.158 922.439 Q194.352 925.98 194.352 933.11 Q194.352 940.216 196.158 943.781 Q197.987 947.323 201.598 947.323 Q205.232 947.323 207.037 943.781 Q208.866 940.216 208.866 933.11 Q208.866 925.98 207.037 922.439 Q205.232 918.874 201.598 918.874 M201.598 915.17 Q207.408 915.17 210.463 919.777 Q213.542 924.36 213.542 933.11 Q213.542 941.837 210.463 946.443 Q207.408 951.026 201.598 951.026 Q195.787 951.026 192.709 946.443 Q189.653 941.837 189.653 933.11 Q189.653 924.36 192.709 919.777 Q195.787 915.17 201.598 915.17 Z\" fill=\"#000000\" fill-rule=\"nonzero\" fill-opacity=\"1\" /><path clip-path=\"url(#clip540)\" d=\"M127.2 783.132 Q123.589 783.132 121.76 786.697 Q119.955 790.238 119.955 797.368 Q119.955 804.474 121.76 808.039 Q123.589 811.581 127.2 811.581 Q130.834 811.581 132.64 808.039 Q134.468 804.474 134.468 797.368 Q134.468 790.238 132.64 786.697 Q130.834 783.132 127.2 783.132 M127.2 779.428 Q133.01 779.428 136.066 784.035 Q139.144 788.618 139.144 797.368 Q139.144 806.095 136.066 810.701 Q133.01 815.284 127.2 815.284 Q121.39 815.284 118.311 810.701 Q115.256 806.095 115.256 797.368 Q115.256 788.618 118.311 784.035 Q121.39 779.428 127.2 779.428 Z\" fill=\"#000000\" fill-rule=\"nonzero\" fill-opacity=\"1\" /><path clip-path=\"url(#clip540)\" d=\"M147.362 808.734 L152.246 808.734 L152.246 814.613 L147.362 814.613 L147.362 808.734 Z\" fill=\"#000000\" fill-rule=\"nonzero\" fill-opacity=\"1\" /><path clip-path=\"url(#clip540)\" d=\"M166.459 810.678 L182.778 810.678 L182.778 814.613 L160.834 814.613 L160.834 810.678 Q163.496 807.923 168.079 803.294 Q172.686 798.641 173.866 797.298 Q176.112 794.775 176.991 793.039 Q177.894 791.28 177.894 789.59 Q177.894 786.836 175.95 785.099 Q174.028 783.363 170.927 783.363 Q168.727 783.363 166.274 784.127 Q163.843 784.891 161.065 786.442 L161.065 781.72 Q163.89 780.586 166.343 780.007 Q168.797 779.428 170.834 779.428 Q176.204 779.428 179.399 782.113 Q182.593 784.798 182.593 789.289 Q182.593 791.419 181.783 793.34 Q180.996 795.238 178.889 797.831 Q178.311 798.502 175.209 801.72 Q172.107 804.914 166.459 810.678 Z\" fill=\"#000000\" fill-rule=\"nonzero\" fill-opacity=\"1\" /><path clip-path=\"url(#clip540)\" d=\"M192.639 780.053 L210.996 780.053 L210.996 783.988 L196.922 783.988 L196.922 792.46 Q197.94 792.113 198.959 791.951 Q199.977 791.766 200.996 791.766 Q206.783 791.766 210.162 794.937 Q213.542 798.109 213.542 803.525 Q213.542 809.104 210.07 812.206 Q206.598 815.284 200.278 815.284 Q198.102 815.284 195.834 814.914 Q193.588 814.544 191.181 813.803 L191.181 809.104 Q193.264 810.238 195.487 810.794 Q197.709 811.349 200.186 811.349 Q204.19 811.349 206.528 809.243 Q208.866 807.136 208.866 803.525 Q208.866 799.914 206.528 797.808 Q204.19 795.701 200.186 795.701 Q198.311 795.701 196.436 796.118 Q194.584 796.535 192.639 797.414 L192.639 780.053 Z\" fill=\"#000000\" fill-rule=\"nonzero\" fill-opacity=\"1\" /><path clip-path=\"url(#clip540)\" d=\"M126.205 647.39 Q122.593 647.39 120.765 650.955 Q118.959 654.496 118.959 661.626 Q118.959 668.732 120.765 672.297 Q122.593 675.839 126.205 675.839 Q129.839 675.839 131.644 672.297 Q133.473 668.732 133.473 661.626 Q133.473 654.496 131.644 650.955 Q129.839 647.39 126.205 647.39 M126.205 643.686 Q132.015 643.686 135.07 648.293 Q138.149 652.876 138.149 661.626 Q138.149 670.353 135.07 674.959 Q132.015 679.542 126.205 679.542 Q120.394 679.542 117.316 674.959 Q114.26 670.353 114.26 661.626 Q114.26 652.876 117.316 648.293 Q120.394 643.686 126.205 643.686 Z\" fill=\"#000000\" fill-rule=\"nonzero\" fill-opacity=\"1\" /><path clip-path=\"url(#clip540)\" d=\"M146.366 672.992 L151.251 672.992 L151.251 678.871 L146.366 678.871 L146.366 672.992 Z\" fill=\"#000000\" fill-rule=\"nonzero\" fill-opacity=\"1\" /><path clip-path=\"url(#clip540)\" d=\"M175.602 660.237 Q178.959 660.955 180.834 663.223 Q182.732 665.492 182.732 668.825 Q182.732 673.941 179.214 676.742 Q175.695 679.542 169.214 679.542 Q167.038 679.542 164.723 679.103 Q162.431 678.686 159.978 677.829 L159.978 673.316 Q161.922 674.45 164.237 675.029 Q166.552 675.607 169.075 675.607 Q173.473 675.607 175.764 673.871 Q178.079 672.135 178.079 668.825 Q178.079 665.769 175.926 664.056 Q173.797 662.32 169.977 662.32 L165.95 662.32 L165.95 658.478 L170.163 658.478 Q173.612 658.478 175.44 657.112 Q177.269 655.723 177.269 653.131 Q177.269 650.469 175.371 649.056 Q173.496 647.621 169.977 647.621 Q168.056 647.621 165.857 648.038 Q163.658 648.455 161.019 649.334 L161.019 645.168 Q163.681 644.427 165.996 644.057 Q168.334 643.686 170.394 643.686 Q175.718 643.686 178.82 646.117 Q181.922 648.524 181.922 652.644 Q181.922 655.515 180.278 657.506 Q178.635 659.473 175.602 660.237 Z\" fill=\"#000000\" fill-rule=\"nonzero\" fill-opacity=\"1\" /><path clip-path=\"url(#clip540)\" d=\"M201.598 647.39 Q197.987 647.39 196.158 650.955 Q194.352 654.496 194.352 661.626 Q194.352 668.732 196.158 672.297 Q197.987 675.839 201.598 675.839 Q205.232 675.839 207.037 672.297 Q208.866 668.732 208.866 661.626 Q208.866 654.496 207.037 650.955 Q205.232 647.39 201.598 647.39 M201.598 643.686 Q207.408 643.686 210.463 648.293 Q213.542 652.876 213.542 661.626 Q213.542 670.353 210.463 674.959 Q207.408 679.542 201.598 679.542 Q195.787 679.542 192.709 674.959 Q189.653 670.353 189.653 661.626 Q189.653 652.876 192.709 648.293 Q195.787 643.686 201.598 643.686 Z\" fill=\"#000000\" fill-rule=\"nonzero\" fill-opacity=\"1\" /><path clip-path=\"url(#clip540)\" d=\"M127.2 511.648 Q123.589 511.648 121.76 515.213 Q119.955 518.754 119.955 525.884 Q119.955 532.99 121.76 536.555 Q123.589 540.097 127.2 540.097 Q130.834 540.097 132.64 536.555 Q134.468 532.99 134.468 525.884 Q134.468 518.754 132.64 515.213 Q130.834 511.648 127.2 511.648 M127.2 507.944 Q133.01 507.944 136.066 512.551 Q139.144 517.134 139.144 525.884 Q139.144 534.611 136.066 539.217 Q133.01 543.8 127.2 543.8 Q121.39 543.8 118.311 539.217 Q115.256 534.611 115.256 525.884 Q115.256 517.134 118.311 512.551 Q121.39 507.944 127.2 507.944 Z\" fill=\"#000000\" fill-rule=\"nonzero\" fill-opacity=\"1\" /><path clip-path=\"url(#clip540)\" d=\"M147.362 537.25 L152.246 537.25 L152.246 543.129 L147.362 543.129 L147.362 537.25 Z\" fill=\"#000000\" fill-rule=\"nonzero\" fill-opacity=\"1\" /><path clip-path=\"url(#clip540)\" d=\"M176.598 524.495 Q179.954 525.213 181.829 527.481 Q183.727 529.75 183.727 533.083 Q183.727 538.199 180.209 541 Q176.69 543.8 170.209 543.8 Q168.033 543.8 165.718 543.361 Q163.427 542.944 160.973 542.087 L160.973 537.574 Q162.917 538.708 165.232 539.287 Q167.547 539.865 170.07 539.865 Q174.468 539.865 176.76 538.129 Q179.075 536.393 179.075 533.083 Q179.075 530.027 176.922 528.314 Q174.792 526.578 170.973 526.578 L166.945 526.578 L166.945 522.736 L171.158 522.736 Q174.607 522.736 176.436 521.37 Q178.264 519.981 178.264 517.389 Q178.264 514.727 176.366 513.314 Q174.491 511.879 170.973 511.879 Q169.052 511.879 166.852 512.296 Q164.653 512.713 162.015 513.592 L162.015 509.426 Q164.677 508.685 166.991 508.315 Q169.329 507.944 171.389 507.944 Q176.714 507.944 179.815 510.375 Q182.917 512.782 182.917 516.902 Q182.917 519.773 181.274 521.764 Q179.63 523.731 176.598 524.495 Z\" fill=\"#000000\" fill-rule=\"nonzero\" fill-opacity=\"1\" /><path clip-path=\"url(#clip540)\" d=\"M192.639 508.569 L210.996 508.569 L210.996 512.504 L196.922 512.504 L196.922 520.976 Q197.94 520.629 198.959 520.467 Q199.977 520.282 200.996 520.282 Q206.783 520.282 210.162 523.453 Q213.542 526.625 213.542 532.041 Q213.542 537.62 210.07 540.722 Q206.598 543.8 200.278 543.8 Q198.102 543.8 195.834 543.43 Q193.588 543.06 191.181 542.319 L191.181 537.62 Q193.264 538.754 195.487 539.31 Q197.709 539.865 200.186 539.865 Q204.19 539.865 206.528 537.759 Q208.866 535.652 208.866 532.041 Q208.866 528.43 206.528 526.324 Q204.19 524.217 200.186 524.217 Q198.311 524.217 196.436 524.634 Q194.584 525.051 192.639 525.93 L192.639 508.569 Z\" fill=\"#000000\" fill-rule=\"nonzero\" fill-opacity=\"1\" /><path clip-path=\"url(#clip540)\" d=\"M126.205 375.906 Q122.593 375.906 120.765 379.471 Q118.959 383.012 118.959 390.142 Q118.959 397.248 120.765 400.813 Q122.593 404.355 126.205 404.355 Q129.839 404.355 131.644 400.813 Q133.473 397.248 133.473 390.142 Q133.473 383.012 131.644 379.471 Q129.839 375.906 126.205 375.906 M126.205 372.202 Q132.015 372.202 135.07 376.809 Q138.149 381.392 138.149 390.142 Q138.149 398.869 135.07 403.475 Q132.015 408.058 126.205 408.058 Q120.394 408.058 117.316 403.475 Q114.26 398.869 114.26 390.142 Q114.26 381.392 117.316 376.809 Q120.394 372.202 126.205 372.202 Z\" fill=\"#000000\" fill-rule=\"nonzero\" fill-opacity=\"1\" /><path clip-path=\"url(#clip540)\" d=\"M146.366 401.508 L151.251 401.508 L151.251 407.387 L146.366 407.387 L146.366 401.508 Z\" fill=\"#000000\" fill-rule=\"nonzero\" fill-opacity=\"1\" /><path clip-path=\"url(#clip540)\" d=\"M174.283 376.901 L162.477 395.35 L174.283 395.35 L174.283 376.901 M173.056 372.827 L178.936 372.827 L178.936 395.35 L183.866 395.35 L183.866 399.239 L178.936 399.239 L178.936 407.387 L174.283 407.387 L174.283 399.239 L158.681 399.239 L158.681 394.725 L173.056 372.827 Z\" fill=\"#000000\" fill-rule=\"nonzero\" fill-opacity=\"1\" /><path clip-path=\"url(#clip540)\" d=\"M201.598 375.906 Q197.987 375.906 196.158 379.471 Q194.352 383.012 194.352 390.142 Q194.352 397.248 196.158 400.813 Q197.987 404.355 201.598 404.355 Q205.232 404.355 207.037 400.813 Q208.866 397.248 208.866 390.142 Q208.866 383.012 207.037 379.471 Q205.232 375.906 201.598 375.906 M201.598 372.202 Q207.408 372.202 210.463 376.809 Q213.542 381.392 213.542 390.142 Q213.542 398.869 210.463 403.475 Q207.408 408.058 201.598 408.058 Q195.787 408.058 192.709 403.475 Q189.653 398.869 189.653 390.142 Q189.653 381.392 192.709 376.809 Q195.787 372.202 201.598 372.202 Z\" fill=\"#000000\" fill-rule=\"nonzero\" fill-opacity=\"1\" /><path clip-path=\"url(#clip540)\" d=\"M127.2 240.164 Q123.589 240.164 121.76 243.729 Q119.955 247.27 119.955 254.4 Q119.955 261.506 121.76 265.071 Q123.589 268.613 127.2 268.613 Q130.834 268.613 132.64 265.071 Q134.468 261.506 134.468 254.4 Q134.468 247.27 132.64 243.729 Q130.834 240.164 127.2 240.164 M127.2 236.46 Q133.01 236.46 136.066 241.067 Q139.144 245.65 139.144 254.4 Q139.144 263.127 136.066 267.733 Q133.01 272.316 127.2 272.316 Q121.39 272.316 118.311 267.733 Q115.256 263.127 115.256 254.4 Q115.256 245.65 118.311 241.067 Q121.39 236.46 127.2 236.46 Z\" fill=\"#000000\" fill-rule=\"nonzero\" fill-opacity=\"1\" /><path clip-path=\"url(#clip540)\" d=\"M147.362 265.766 L152.246 265.766 L152.246 271.645 L147.362 271.645 L147.362 265.766 Z\" fill=\"#000000\" fill-rule=\"nonzero\" fill-opacity=\"1\" /><path clip-path=\"url(#clip540)\" d=\"M175.278 241.159 L163.473 259.608 L175.278 259.608 L175.278 241.159 M174.052 237.085 L179.931 237.085 L179.931 259.608 L184.862 259.608 L184.862 263.497 L179.931 263.497 L179.931 271.645 L175.278 271.645 L175.278 263.497 L159.677 263.497 L159.677 258.983 L174.052 237.085 Z\" fill=\"#000000\" fill-rule=\"nonzero\" fill-opacity=\"1\" /><path clip-path=\"url(#clip540)\" d=\"M192.639 237.085 L210.996 237.085 L210.996 241.02 L196.922 241.02 L196.922 249.492 Q197.94 249.145 198.959 248.983 Q199.977 248.798 200.996 248.798 Q206.783 248.798 210.162 251.969 Q213.542 255.141 213.542 260.557 Q213.542 266.136 210.07 269.238 Q206.598 272.316 200.278 272.316 Q198.102 272.316 195.834 271.946 Q193.588 271.576 191.181 270.835 L191.181 266.136 Q193.264 267.27 195.487 267.826 Q197.709 268.381 200.186 268.381 Q204.19 268.381 206.528 266.275 Q208.866 264.168 208.866 260.557 Q208.866 256.946 206.528 254.84 Q204.19 252.733 200.186 252.733 Q198.311 252.733 196.436 253.15 Q194.584 253.567 192.639 254.446 L192.639 237.085 Z\" fill=\"#000000\" fill-rule=\"nonzero\" fill-opacity=\"1\" /><path clip-path=\"url(#clip540)\" d=\"M126.205 104.422 Q122.593 104.422 120.765 107.987 Q118.959 111.528 118.959 118.658 Q118.959 125.764 120.765 129.329 Q122.593 132.871 126.205 132.871 Q129.839 132.871 131.644 129.329 Q133.473 125.764 133.473 118.658 Q133.473 111.528 131.644 107.987 Q129.839 104.422 126.205 104.422 M126.205 100.718 Q132.015 100.718 135.07 105.325 Q138.149 109.908 138.149 118.658 Q138.149 127.385 135.07 131.991 Q132.015 136.574 126.205 136.574 Q120.394 136.574 117.316 131.991 Q114.26 127.385 114.26 118.658 Q114.26 109.908 117.316 105.325 Q120.394 100.718 126.205 100.718 Z\" fill=\"#000000\" fill-rule=\"nonzero\" fill-opacity=\"1\" /><path clip-path=\"url(#clip540)\" d=\"M146.366 130.024 L151.251 130.024 L151.251 135.903 L146.366 135.903 L146.366 130.024 Z\" fill=\"#000000\" fill-rule=\"nonzero\" fill-opacity=\"1\" /><path clip-path=\"url(#clip540)\" d=\"M161.482 101.343 L179.839 101.343 L179.839 105.278 L165.765 105.278 L165.765 113.75 Q166.783 113.403 167.802 113.241 Q168.82 113.056 169.839 113.056 Q175.626 113.056 179.005 116.227 Q182.385 119.399 182.385 124.815 Q182.385 130.394 178.913 133.496 Q175.44 136.574 169.121 136.574 Q166.945 136.574 164.677 136.204 Q162.431 135.834 160.024 135.093 L160.024 130.394 Q162.107 131.528 164.329 132.084 Q166.552 132.639 169.028 132.639 Q173.033 132.639 175.371 130.533 Q177.709 128.426 177.709 124.815 Q177.709 121.204 175.371 119.098 Q173.033 116.991 169.028 116.991 Q167.153 116.991 165.278 117.408 Q163.427 117.824 161.482 118.704 L161.482 101.343 Z\" fill=\"#000000\" fill-rule=\"nonzero\" fill-opacity=\"1\" /><path clip-path=\"url(#clip540)\" d=\"M201.598 104.422 Q197.987 104.422 196.158 107.987 Q194.352 111.528 194.352 118.658 Q194.352 125.764 196.158 129.329 Q197.987 132.871 201.598 132.871 Q205.232 132.871 207.037 129.329 Q208.866 125.764 208.866 118.658 Q208.866 111.528 207.037 107.987 Q205.232 104.422 201.598 104.422 M201.598 100.718 Q207.408 100.718 210.463 105.325 Q213.542 109.908 213.542 118.658 Q213.542 127.385 210.463 131.991 Q207.408 136.574 201.598 136.574 Q195.787 136.574 192.709 131.991 Q189.653 127.385 189.653 118.658 Q189.653 109.908 192.709 105.325 Q195.787 100.718 201.598 100.718 Z\" fill=\"#000000\" fill-rule=\"nonzero\" fill-opacity=\"1\" /><path clip-path=\"url(#clip540)\" d=\"M77.5631 752.383 L28.3562 752.383 L28.3562 746.527 L50.5089 746.527 Q55.124 746.527 57.4793 744.331 Q59.8346 742.135 59.8346 737.838 Q59.8346 733.127 57.161 730.772 Q54.4874 728.385 49.1402 728.385 L28.3562 728.385 L28.3562 722.528 L55.7924 722.528 Q57.7021 722.528 58.6251 721.987 Q59.5163 721.414 59.5163 720.237 Q59.5163 719.95 59.3572 719.441 Q59.1662 718.932 58.7843 718.04 L63.4949 718.04 Q64.227 719.345 64.5771 720.523 Q64.9272 721.669 64.9272 722.783 Q64.9272 724.979 63.6859 726.284 Q62.4446 727.589 59.8983 728.066 Q62.4127 729.658 63.6859 731.981 Q64.9272 734.273 64.9272 737.392 Q64.9272 740.639 63.6859 742.93 Q62.4446 745.19 59.9619 746.527 L77.5631 746.527 L77.5631 752.383 Z\" fill=\"#000000\" fill-rule=\"nonzero\" fill-opacity=\"1\" /><polyline clip-path=\"url(#clip542)\" style=\"stroke:#009af9; stroke-linecap:round; stroke-linejoin:round; stroke-width:4; stroke-opacity:1; fill:none\" points=\"309.067,1384.24 342.136,1373.37 375.206,1361.67 408.275,1349.35 441.345,1336.56 474.414,1323.41 507.483,1309.99 540.553,1296.37 573.622,1282.59 606.692,1268.68 639.761,1254.66 672.83,1240.54 705.9,1226.34 738.969,1212.06 772.039,1197.69 805.108,1183.24 838.177,1168.69 871.247,1154.06 904.316,1139.33 937.386,1124.49 970.455,1109.54 1003.52,1094.47 1036.59,1079.28 1069.66,1063.96 1102.73,1048.49 1135.8,1032.87 1168.87,1017.1 1201.94,1001.15 1235.01,985.016 1268.08,968.691 1301.15,952.158 1334.22,935.403 1367.29,918.409 1400.36,901.161 1433.43,883.638 1466.5,865.82 1499.57,847.683 1532.63,829.2 1565.7,810.343 1598.77,791.079 1631.84,771.368 1664.91,751.168 1697.98,730.429 1731.05,709.093 1764.12,687.092 1797.19,664.345 1830.26,640.76 1863.33,616.222 1896.4,590.597 1929.47,563.724 1962.54,535.409 1995.61,505.415 2028.68,473.458 2061.75,439.195 2094.81,402.208 2127.88,361.993 2160.95,317.939 2194.02,269.312 2227.09,215.224 2260.16,154.608 2293.23,86.1857 \"/>\n",
       "<path clip-path=\"url(#clip540)\" d=\"M319.649 196.789 L582.401 196.789 L582.401 93.1086 L319.649 93.1086  Z\" fill=\"#ffffff\" fill-rule=\"evenodd\" fill-opacity=\"1\"/>\n",
       "<polyline clip-path=\"url(#clip540)\" style=\"stroke:#000000; stroke-linecap:round; stroke-linejoin:round; stroke-width:4; stroke-opacity:1; fill:none\" points=\"319.649,196.789 582.401,196.789 582.401,93.1086 319.649,93.1086 319.649,196.789 \"/>\n",
       "<polyline clip-path=\"url(#clip540)\" style=\"stroke:#009af9; stroke-linecap:round; stroke-linejoin:round; stroke-width:4; stroke-opacity:1; fill:none\" points=\"343.018,144.949 483.232,144.949 \"/>\n",
       "<path clip-path=\"url(#clip540)\" d=\"M520.444 164.636 Q518.638 169.266 516.926 170.678 Q515.213 172.09 512.342 172.09 L508.939 172.09 L508.939 168.525 L511.439 168.525 Q513.199 168.525 514.171 167.692 Q515.143 166.858 516.324 163.756 L517.088 161.812 L506.602 136.303 L511.115 136.303 L519.217 156.581 L527.319 136.303 L531.833 136.303 L520.444 164.636 Z\" fill=\"#000000\" fill-rule=\"nonzero\" fill-opacity=\"1\" /><path clip-path=\"url(#clip540)\" d=\"M539.124 158.293 L546.763 158.293 L546.763 131.928 L538.453 133.595 L538.453 129.335 L546.717 127.669 L551.393 127.669 L551.393 158.293 L559.032 158.293 L559.032 162.229 L539.124 162.229 L539.124 158.293 Z\" fill=\"#000000\" fill-rule=\"nonzero\" fill-opacity=\"1\" /></svg>\n"
      ]
     },
     "metadata": {},
     "output_type": "display_data"
    }
   ],
   "source": [
    "ΔK1_guesses = -0.3:0.01:0.3\n",
    "plot(ΔK1_guesses, map(t->mu([0,0,0,0,t]), ΔK1_guesses), yticks=0.05:0.05:0.55, xlabel=\"ΔK1\", ylabel=\"μ\")"
   ]
  },
  {
   "cell_type": "markdown",
   "metadata": {},
   "source": [
    "We see from the plot that $\\Delta K_1 \\approx 0.09$ seems close to $\\mu = 0.25$. After some iterating near there, let's use `0.086778`"
   ]
  },
  {
   "cell_type": "code",
   "execution_count": 75,
   "metadata": {},
   "outputs": [
    {
     "data": {
      "text/plain": [
       "0.25000025591568364"
      ]
     },
     "metadata": {},
     "output_type": "display_data"
    }
   ],
   "source": [
    "mu([0,0,0,0,0.086778])"
   ]
  },
  {
   "cell_type": "markdown",
   "metadata": {},
   "source": [
    "Let's set the controller to have this `K1` and see how we did:"
   ]
  },
  {
   "cell_type": "code",
   "execution_count": 76,
   "metadata": {},
   "outputs": [
    {
     "data": {
      "text/plain": [
       "0.2500002673630771"
      ]
     },
     "metadata": {},
     "output_type": "display_data"
    }
   ],
   "source": [
    "# Set the quadrupoles:\n",
    "cq.x = K1 + 0.086778\n",
    "\n",
    "# Start over bunch:\n",
    "bunch = Bunch(x=Δx[1], px=Δx[2], y=Δx[3], py=Δx[4])\n",
    "track!(bunch, bl)\n",
    "\n",
    "p = Particle(bunch)\n",
    "M = GTPSA.jacobian(p.v)\n",
    "acos(1/2*(M[1,1]+M[2,2]))/(2*pi) # About 0.25!"
   ]
  },
  {
   "cell_type": "markdown",
   "metadata": {},
   "source": [
    "In the general case, we could have nonlinear orbital motion, amplitude dependent tune shifts, and a fully coupled beam. In this case, the trace of the first-order transport matrix is wholly insufficient to quantify the tune. The `NonlinearNormalForm.jl` package should be used instead. Let's check that the `mu` we obtained as a TPSA before is equivalent to that obtained using a proper normal form package."
   ]
  },
  {
   "cell_type": "code",
   "execution_count": 105,
   "metadata": {},
   "outputs": [
    {
     "data": {
      "text/plain": [
       "TPS64{Descriptor(NV=5, VOS=[1, 1, 1, 1, 10], MO=14)}:\n",
       " Coefficient                Order   Exponent\n",
       "  1.9297099188200589e-01      0      0   0   0   0   0\n",
       "  6.1298747042403567e-01      1      0   0   0   0   1\n",
       "  4.0901016168073373e-01      2      0   0   0   0   2\n",
       "  9.2478622052015302e-01      3      0   0   0   0   3\n",
       "  2.0489005166551260e+00      4      0   0   0   0   4\n",
       "  5.3726019692045206e+00      5      0   0   0   0   5\n",
       "  1.4810554557624910e+01      6      0   0   0   0   6\n",
       "  4.2928365254905628e+01      7      0   0   0   0   7\n",
       "  1.2843102743286624e+02      8      0   0   0   0   8\n",
       "  3.9408568802984871e+02      9      0   0   0   0   9\n",
       "  1.2330136850087549e+03     10      0   0   0   0  10\n"
      ]
     },
     "metadata": {},
     "output_type": "display_data"
    }
   ],
   "source": [
    "# Set the quad strengths TPSA back to what we ahd before\n",
    "cq.x = K1 + ΔK1\n",
    "\n",
    "# Start over bunch:\n",
    "bunch = Bunch(x=Δx[1], px=Δx[2], y=Δx[3], py=Δx[4])\n",
    "track!(bunch, bl)\n",
    "\n",
    "# Construct a DAMap, using ΔK1 as a parameter\n",
    "p = Particle(bunch)\n",
    "m = DAMap(x=[p.v..., ΔK1], nv=4, np=1) # 4 variables, 1 parameter\n",
    "\n",
    "a = normal(m) # compute the nonlinear normalizing map to transform m into a rotation\n",
    "c = c_map(m)  # Map to transform into the phasor's basis\n",
    "\n",
    "# Hide show of very small monomial coefficients\n",
    "GTPSA.show_eps = 1e-10\n",
    "\n",
    "# Get the fully nonlinear, amplitude-dependent rotation in phasor's basis\n",
    "r = inv(c) ∘ inv(a) ∘ m ∘ a ∘ c\n",
    "\n",
    "# Extract the amplitude dependent tune\n",
    "mu_NNF = real(log(deriv(r.x[1], 1))/(-2*pi*im))"
   ]
  },
  {
   "cell_type": "markdown",
   "metadata": {},
   "source": [
    "Because the orbital motion is fully linear and uncoupled, this should agree completely with our naive trace calculation"
   ]
  },
  {
   "cell_type": "code",
   "execution_count": 109,
   "metadata": {},
   "outputs": [
    {
     "data": {
      "text/plain": [
       "TPS64{Descriptor(NV=5, VOS=[1, 1, 1, 1, 10], MO=14)}:\n",
       " Coefficient                Order   Exponent\n",
       "  0.0000000000000000e+00      0      0   0   0   0   0\n"
      ]
     },
     "metadata": {},
     "output_type": "display_data"
    }
   ],
   "source": [
    "mu_NNF - mu # zero!"
   ]
  }
 ],
 "metadata": {
  "kernelspec": {
   "display_name": "Julia 1.11.0-rc3",
   "language": "julia",
   "name": "julia-1.11"
  },
  "language_info": {
   "file_extension": ".jl",
   "mimetype": "application/julia",
   "name": "julia",
   "version": "1.11.0-rc3"
  }
 },
 "nbformat": 4,
 "nbformat_minor": 2
}
